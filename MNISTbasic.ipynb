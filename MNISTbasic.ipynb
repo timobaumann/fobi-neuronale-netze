{
 "cells": [
  {
   "cell_type": "markdown",
   "id": "8f71c223",
   "metadata": {
    "editable": true,
    "slideshow": {
     "slide_type": ""
    },
    "tags": []
   },
   "source": [
    "# Simplistic attempts at an MNIST classifier: The Hello World of neural networks.\n",
    "\n",
    "The code here roughly reproduces what's done in 3Blue1Brown's introductory videos on neural networks. \n",
    "In case you have never seen those videos: you absolutely must! They are awesome! They can be found at: https://www.3blue1brown.com/topics/neural-networks \n",
    "\n",
    "Classifying digits is the \"Hello World\" of neural networks – a moderately difficult task that can be solved reasonably well even with a simple neural network. It's also possible to train on standard computers without having to wait forever."
   ]
  },
  {
   "cell_type": "code",
   "execution_count": 36,
   "id": "5f37d7c5",
   "metadata": {
    "editable": true,
    "slideshow": {
     "slide_type": ""
    },
    "tags": []
   },
   "outputs": [],
   "source": [
    "import time\n",
    "import random\n",
    "import os\n",
    "import struct\n",
    "import numpy as np\n",
    "import torch\n",
    "import torch.nn as nn\n",
    "import ipywidgets as widgets\n",
    "import PIL.Image"
   ]
  },
  {
   "cell_type": "code",
   "execution_count": 37,
   "id": "6928e5c9",
   "metadata": {
    "editable": true,
    "slideshow": {
     "slide_type": ""
    },
    "tags": []
   },
   "outputs": [],
   "source": [
    "%%capture\n",
    "# now, the following is cool: it lets us import functions that we define in other notebooks! \n",
    "%run PyTorch.ipynb import plot\n",
    "# (The drawback: we hardly ever write notebooks in a way that makes for good modules to import from; \n",
    "# specifically: the whole PyTorch notebook is run above, not only the cell that defines the plot function. \n",
    "# Calling %run can easily become slow.)\n",
    "# we use capture above to avoid seeing all the output that results from executing the notebook. "
   ]
  },
  {
   "cell_type": "code",
   "execution_count": 38,
   "id": "b3f4dbbd",
   "metadata": {},
   "outputs": [],
   "source": [
    "# this code reads a database of digits (the database is already included in the repository)\n",
    "# please don't look too closely at this code, I'm not proud of it.\n",
    "# minimally adapted from https://gist.github.com/akesling/5358964\n",
    "def read_mnist(dataset, path=\"data/MNIST/raw/\"):\n",
    "    if dataset == \"training\":\n",
    "        fname_img = os.path.join(path, \"train-images-idx3-ubyte\")\n",
    "        fname_lbl = os.path.join(path, \"train-labels-idx1-ubyte\")\n",
    "    elif dataset == \"testing\":\n",
    "        fname_img = os.path.join(path, \"t10k-images-idx3-ubyte\")\n",
    "        fname_lbl = os.path.join(path, \"t10k-labels-idx1-ubyte\")\n",
    "    else:\n",
    "        raise ValueError(\"dataset must be 'testing' or 'training'\")\n",
    "\n",
    "    # Load everything in some numpy arrays\n",
    "    with open(fname_lbl, \"rb\") as flbl:\n",
    "        magic, num = struct.unpack(\">II\", flbl.read(8))\n",
    "        labels = np.fromfile(flbl, dtype=np.int8)\n",
    "\n",
    "    with open(fname_img, \"rb\") as fimg:\n",
    "        magic, num, rows, cols = struct.unpack(\">IIII\", fimg.read(16))\n",
    "        images = np.multiply(\n",
    "            np.fromfile(fimg, dtype=np.uint8).reshape(len(labels), rows*cols),\n",
    "            1.0 / 255.0)\n",
    "\n",
    "    get_instance = lambda idx: (labels[idx], images[idx])\n",
    "\n",
    "    # Create an iterator which returns each image in turn\n",
    "    for i in range(len(labels)):\n",
    "        yield get_instance(i)\n",
    "        \n",
    "training = [(lbl, img) for (lbl, img) in read_mnist(\"training\")]\n",
    "testing = [(lbl, img) for (lbl, img) in read_mnist(\"testing\")]"
   ]
  },
  {
   "cell_type": "code",
   "execution_count": 39,
   "id": "15265891",
   "metadata": {},
   "outputs": [
    {
     "data": {
      "text/plain": [
       "5"
      ]
     },
     "metadata": {},
     "output_type": "display_data"
    },
    {
     "data": {
      "application/vnd.jupyter.widget-view+json": {
       "model_id": "d57b52fb910945a487a2aa3fe7d0dd3b",
       "version_major": 2,
       "version_minor": 0
      },
      "text/plain": [
       "Image(value=b'\\x89PNG\\r\\n\\x1a\\n\\x00\\x00\\x00\\rIHDR\\x00\\x00\\x00\\x1c\\x00\\x00\\x00\\x1c\\x08\\x00\\x00\\x00\\x00Wf\\x80H\\x…"
      ]
     },
     "metadata": {},
     "output_type": "display_data"
    },
    {
     "data": {
      "text/plain": [
       "0"
      ]
     },
     "metadata": {},
     "output_type": "display_data"
    },
    {
     "data": {
      "application/vnd.jupyter.widget-view+json": {
       "model_id": "98daee6a5ef448c09b350265536a6052",
       "version_major": 2,
       "version_minor": 0
      },
      "text/plain": [
       "Image(value=b'\\x89PNG\\r\\n\\x1a\\n\\x00\\x00\\x00\\rIHDR\\x00\\x00\\x00\\x1c\\x00\\x00\\x00\\x1c\\x08\\x00\\x00\\x00\\x00Wf\\x80H\\x…"
      ]
     },
     "metadata": {},
     "output_type": "display_data"
    },
    {
     "data": {
      "text/plain": [
       "4"
      ]
     },
     "metadata": {},
     "output_type": "display_data"
    },
    {
     "data": {
      "application/vnd.jupyter.widget-view+json": {
       "model_id": "8df49ffc1cbe41d880fb96208b915113",
       "version_major": 2,
       "version_minor": 0
      },
      "text/plain": [
       "Image(value=b'\\x89PNG\\r\\n\\x1a\\n\\x00\\x00\\x00\\rIHDR\\x00\\x00\\x00\\x1c\\x00\\x00\\x00\\x1c\\x08\\x00\\x00\\x00\\x00Wf\\x80H\\x…"
      ]
     },
     "metadata": {},
     "output_type": "display_data"
    },
    {
     "data": {
      "text/plain": [
       "1"
      ]
     },
     "metadata": {},
     "output_type": "display_data"
    },
    {
     "data": {
      "application/vnd.jupyter.widget-view+json": {
       "model_id": "ff99218925114b9791ccf7b6556c362d",
       "version_major": 2,
       "version_minor": 0
      },
      "text/plain": [
       "Image(value=b'\\x89PNG\\r\\n\\x1a\\n\\x00\\x00\\x00\\rIHDR\\x00\\x00\\x00\\x1c\\x00\\x00\\x00\\x1c\\x08\\x00\\x00\\x00\\x00Wf\\x80H\\x…"
      ]
     },
     "metadata": {},
     "output_type": "display_data"
    },
    {
     "data": {
      "text/plain": [
       "9"
      ]
     },
     "metadata": {},
     "output_type": "display_data"
    },
    {
     "data": {
      "application/vnd.jupyter.widget-view+json": {
       "model_id": "e81e2af43417482cb31d612db315d046",
       "version_major": 2,
       "version_minor": 0
      },
      "text/plain": [
       "Image(value=b'\\x89PNG\\r\\n\\x1a\\n\\x00\\x00\\x00\\rIHDR\\x00\\x00\\x00\\x1c\\x00\\x00\\x00\\x1c\\x08\\x00\\x00\\x00\\x00Wf\\x80H\\x…"
      ]
     },
     "metadata": {},
     "output_type": "display_data"
    },
    {
     "data": {
      "text/plain": [
       "2"
      ]
     },
     "metadata": {},
     "output_type": "display_data"
    },
    {
     "data": {
      "application/vnd.jupyter.widget-view+json": {
       "model_id": "2918889e9f3a49c09bde7fd241ba4211",
       "version_major": 2,
       "version_minor": 0
      },
      "text/plain": [
       "Image(value=b'\\x89PNG\\r\\n\\x1a\\n\\x00\\x00\\x00\\rIHDR\\x00\\x00\\x00\\x1c\\x00\\x00\\x00\\x1c\\x08\\x00\\x00\\x00\\x00Wf\\x80H\\x…"
      ]
     },
     "metadata": {},
     "output_type": "display_data"
    },
    {
     "data": {
      "text/plain": [
       "1"
      ]
     },
     "metadata": {},
     "output_type": "display_data"
    },
    {
     "data": {
      "application/vnd.jupyter.widget-view+json": {
       "model_id": "f272f222fec44a4ab35f7a7337f77c86",
       "version_major": 2,
       "version_minor": 0
      },
      "text/plain": [
       "Image(value=b'\\x89PNG\\r\\n\\x1a\\n\\x00\\x00\\x00\\rIHDR\\x00\\x00\\x00\\x1c\\x00\\x00\\x00\\x1c\\x08\\x00\\x00\\x00\\x00Wf\\x80H\\x…"
      ]
     },
     "metadata": {},
     "output_type": "display_data"
    },
    {
     "data": {
      "text/plain": [
       "3"
      ]
     },
     "metadata": {},
     "output_type": "display_data"
    },
    {
     "data": {
      "application/vnd.jupyter.widget-view+json": {
       "model_id": "4a7d2ca0a57a4b949081ba57a291ee4b",
       "version_major": 2,
       "version_minor": 0
      },
      "text/plain": [
       "Image(value=b'\\x89PNG\\r\\n\\x1a\\n\\x00\\x00\\x00\\rIHDR\\x00\\x00\\x00\\x1c\\x00\\x00\\x00\\x1c\\x08\\x00\\x00\\x00\\x00Wf\\x80H\\x…"
      ]
     },
     "metadata": {},
     "output_type": "display_data"
    },
    {
     "data": {
      "text/plain": [
       "1"
      ]
     },
     "metadata": {},
     "output_type": "display_data"
    },
    {
     "data": {
      "application/vnd.jupyter.widget-view+json": {
       "model_id": "ded0b543da334d3b943650ff5db8ed9d",
       "version_major": 2,
       "version_minor": 0
      },
      "text/plain": [
       "Image(value=b'\\x89PNG\\r\\n\\x1a\\n\\x00\\x00\\x00\\rIHDR\\x00\\x00\\x00\\x1c\\x00\\x00\\x00\\x1c\\x08\\x00\\x00\\x00\\x00Wf\\x80H\\x…"
      ]
     },
     "metadata": {},
     "output_type": "display_data"
    },
    {
     "data": {
      "text/plain": [
       "4"
      ]
     },
     "metadata": {},
     "output_type": "display_data"
    },
    {
     "data": {
      "application/vnd.jupyter.widget-view+json": {
       "model_id": "6ff01ac65ac644cb9de77d7a19662723",
       "version_major": 2,
       "version_minor": 0
      },
      "text/plain": [
       "Image(value=b'\\x89PNG\\r\\n\\x1a\\n\\x00\\x00\\x00\\rIHDR\\x00\\x00\\x00\\x1c\\x00\\x00\\x00\\x1c\\x08\\x00\\x00\\x00\\x00Wf\\x80H\\x…"
      ]
     },
     "metadata": {},
     "output_type": "display_data"
    }
   ],
   "source": [
    "# print some examples (pairs of target number and image)\n",
    "import io\n",
    "for i in range(10):\n",
    "    buffer = io.BytesIO()\n",
    "    PIL.Image.fromarray((256*training[i][1]).reshape(28, 28)).convert('L').save(buffer, format=\"PNG\")\n",
    "    display(training[i][0], widgets.Image(value=buffer.getvalue(),width=28,height=28))"
   ]
  },
  {
   "cell_type": "markdown",
   "id": "131a6111-6c96-4811-9056-193e13b283eb",
   "metadata": {},
   "source": [
    "# A simple neural network for MNIST\n",
    "In MNIST we have grayscale images of digits, 28x28 pixels in size (as shown above). \n",
    "We will define a network with two inner (hidden) layers, each with 16 neurons, and an output layer with 10 neurons, one per digit.\n",
    "Let's go!"
   ]
  },
  {
   "cell_type": "code",
   "execution_count": 40,
   "id": "5a1def90",
   "metadata": {},
   "outputs": [],
   "source": [
    "HIDDEN_DIM1 = 16\n",
    "HIDDEN_DIM2 = 16"
   ]
  },
  {
   "cell_type": "code",
   "execution_count": 41,
   "id": "45dda405",
   "metadata": {},
   "outputs": [],
   "source": [
    "class MNISTClassify(nn.Module):\n",
    "    def __init__(self):\n",
    "        super(MNISTClassify, self).__init__()\n",
    "        input_size = 28 * 28\n",
    "        self.W1 = nn.Parameter(nn.init.xavier_uniform_(torch.empty(input_size, HIDDEN_DIM1)))\n",
    "        self.b1 = nn.Parameter(nn.init.xavier_uniform_(torch.empty(1, HIDDEN_DIM1)))\n",
    "        self.W2 = nn.Parameter(nn.init.xavier_uniform_(torch.empty(HIDDEN_DIM1, HIDDEN_DIM2)))\n",
    "        self.b2 = nn.Parameter(nn.init.xavier_uniform_(torch.empty(1, HIDDEN_DIM2)))\n",
    "        self.W3 = nn.Parameter(nn.init.xavier_uniform_(torch.empty(HIDDEN_DIM2, 10)))\n",
    "        self.b3 = nn.Parameter(nn.init.xavier_uniform_(torch.empty(1, 10)))\n",
    "        \n",
    "    def forward(self, x):\n",
    "        # erste innere Schicht:\n",
    "        h1 = nn.functional.sigmoid(x @ self.W1 + self.b1)\n",
    "        # zweite innere Schicht:\n",
    "        h2 = nn.functional.sigmoid(h1 @ self.W2 + self.b2)\n",
    "        # Ergebnisschicht:\n",
    "        activation = nn.functional.sigmoid(h2 @ self.W3 + self.b3)\n",
    "        return activation"
   ]
  },
  {
   "cell_type": "markdown",
   "id": "763486b1-cda2-4b6c-9660-cb704db813d5",
   "metadata": {},
   "source": [
    "What's new here? \n",
    "\n",
    "We're not computing the outputs of individual neurons! Instead, we compute the weighted sum for all output neurons from all weighted input neurons in one matrix multiplication (which uses the ```@``` operator). We then add a bias *vector* (instead of just one bias value). The agreement is that sigmoid called on a vector yields the vector of the sigmoid operation performed on each individual value in the vector.\n",
    "\n",
    "Matrix operations really condense the computations needed for a full layer to <tt>a<sub>out</sub> = &sigma;(a<sub>in</sub> &middot; W + b)</tt>. Note again, that operator overloading makes this concise form possible. \n",
    "\n",
    "What's important to note is that we need to make sure that weight matrices (and bias vectors) are of the right sizes, check the sizes in the constructor.\n",
    "\n",
    "Also, note that we initialize the parameters in a certain way – one that was vital discovery in making deep learning actually work in practice."
   ]
  },
  {
   "cell_type": "markdown",
   "id": "ddc25900-1675-43e1-b9b4-d5a988b99b34",
   "metadata": {},
   "source": [
    "# The training loop.\n",
    "The training is actually quite similar to what we did in the previous exercise. \n",
    "we over and over repeat the following:\n",
    "* have the network produce some output (**new:** there's now input involved!)\n",
    "* compute the desired output (**new:** this also comes from data!)\n",
    "* compute the model loss as the squared error between target and estimate\n",
    "* compute the gradients of the error wrt. all parameters\n",
    "* adjust errors a little bit in the right direction.\n",
    "\n",
    "We perform this repeatedly and every time with a different image. Once we're through with every image, we repeat, for a total of 5 repetitions (each repetition is called an *epoch*). \n",
    "After every epoch, we **test** the model on some validation data. In that way, we have a better chance at assessing the real-world performance of the model on new data, as compared to data that has been seen in training."
   ]
  },
  {
   "cell_type": "code",
   "execution_count": 42,
   "id": "0f16f533-cdef-4a01-a7d4-23a0365ff899",
   "metadata": {
    "editable": true,
    "slideshow": {
     "slide_type": ""
    },
    "tags": []
   },
   "outputs": [
    {
     "name": "stdout",
     "output_type": "stream",
     "text": [
      "Epoch 1 starting\n",
      "Held out accuracy 0.7897 (17738.583359166743 instances/sec)\n",
      "   T0    T1    T2    T3    T4    T5    T6    T7    T8    T9    \n",
      "P0 954   0     23    23    1     135   25    6     14    23    \n",
      "P1 0     1116  23    12    5     14    3     40    23    16    \n",
      "P2 1     2     883   26    4     24    10    15    10    3     \n",
      "P3 3     3     17    896   0     312   0     3     44    16    \n",
      "P4 0     0     11    2     813   50    2     7     25    334   \n",
      "P5 0     0     1     0     0     30    1     0     1     0     \n",
      "P6 20    4     33    8     32    55    913   0     27    4     \n",
      "P7 1     2     18    15    5     27    1     941   8     60    \n",
      "P8 1     8     22    24    11    205   3     2     803   5     \n",
      "P9 0     0     1     4     111   40    0     14    19    548   \n",
      "instances per sec: 0.0\n",
      "Epoch 2 starting\n",
      "Held out accuracy 0.9041 (17472.69932388804 instances/sec)\n",
      "   T0    T1    T2    T3    T4    T5    T6    T7    T8    T9    \n",
      "P0 941   0     16    3     1     15    17    3     3     4     \n",
      "P1 0     1110  7     6     0     4     3     22    11    4     \n",
      "P2 3     2     919   17    3     9     8     17    6     3     \n",
      "P3 3     3     15    907   0     50    0     7     27    13    \n",
      "P4 1     1     12    2     855   12    5     5     10    34    \n",
      "P5 15    1     1     34    0     736   14    1     49    20    \n",
      "P6 13    5     25    1     15    27    909   3     21    1     \n",
      "P7 3     1     13    14    1     9     1     938   3     14    \n",
      "P8 1     11    20    15    7     22    1     1     818   8     \n",
      "P9 0     1     4     11    100   8     0     31    26    908   \n",
      "instances per sec: 2331.486113779671\n",
      "Epoch 3 starting\n",
      "Held out accuracy 0.9178 (17048.900458140746 instances/sec)\n",
      "   T0    T1    T2    T3    T4    T5    T6    T7    T8    T9    \n",
      "P0 951   0     19    3     1     18    16    5     4     7     \n",
      "P1 0     1106  2     3     0     3     3     12    4     2     \n",
      "P2 4     4     927   23    2     3     8     20    4     2     \n",
      "P3 3     3     14    906   0     48    0     11    25    12    \n",
      "P4 2     1     19    0     916   13    6     8     10    41    \n",
      "P5 6     1     1     34    0     756   14    0     36    16    \n",
      "P6 9     3     13    0     14    13    906   2     12    0     \n",
      "P7 2     2     15    15    2     8     1     950   4     13    \n",
      "P8 3     15    20    17    3     22    4     1     857   13    \n",
      "P9 0     0     2     9     44    8     0     19    18    903   \n",
      "instances per sec: 3107.148805386085\n",
      "Epoch 4 starting\n",
      "Held out accuracy 0.9235 (18041.561406761266 instances/sec)\n",
      "   T0    T1    T2    T3    T4    T5    T6    T7    T8    T9    \n",
      "P0 956   0     17    3     1     15    16    4     5     7     \n",
      "P1 0     1103  1     1     1     2     2     9     3     3     \n",
      "P2 1     4     938   24    2     3     4     22    4     2     \n",
      "P3 1     3     12    914   0     46    0     11    28    11    \n",
      "P4 1     1     19    0     932   11    6     10    9     60    \n",
      "P5 6     2     1     34    0     776   9     1     36    17    \n",
      "P6 8     3     13    0     15    12    917   2     13    1     \n",
      "P7 4     1     13    15    2     5     1     957   5     10    \n",
      "P8 3     18    16    12    2     16    3     1     860   16    \n",
      "P9 0     0     2     7     27    6     0     11    11    882   \n",
      "instances per sec: 3492.350284822498\n",
      "Epoch 5 starting\n",
      "Held out accuracy 0.9286 (17945.250843074722 instances/sec)\n",
      "   T0    T1    T2    T3    T4    T5    T6    T7    T8    T9    \n",
      "P0 952   0     15    2     1     12    15    4     4     6     \n",
      "P1 0     1106  2     2     1     3     2     9     4     3     \n",
      "P2 2     4     937   20    2     1     2     22    3     0     \n",
      "P3 1     2     15    928   0     45    0     12    24    14    \n",
      "P4 1     1     19    0     927   9     7     8     10    33    \n",
      "P5 7     2     0     25    0     781   12    1     34    11    \n",
      "P6 10    4     9     0     14    16    915   2     12    2     \n",
      "P7 4     2     16    11    2     4     1     956   7     8     \n",
      "P8 3     14    17    13    3     12    4     1     863   11    \n",
      "P9 0     0     2     9     32    9     0     13    13    921   \n",
      "instances per sec: 3726.3306257278573\n"
     ]
    },
    {
     "data": {
      "application/vnd.jupyter.widget-view+json": {
       "model_id": "a75183e153304f96bab45102f5debc7c",
       "version_major": 2,
       "version_minor": 0
      },
      "image/png": "[encoded data removed]",
      "text/html": [
       "\n",
       "            <div style=\"display: inline-block;\">\n",
       "                <div class=\"jupyter-widgets widget-label\" style=\"text-align: center;\">\n",
       "                    evolution over training iterations\n",
       "                </div>\n",
       "                <img src='data:image/png;base64,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' width=640.0/>\n",
       "            </div>\n",
       "        "
      ],
      "text/plain": [
       "Canvas(toolbar=Toolbar(toolitems=[('Home', 'Reset original view', 'home', 'home'), ('Back', 'Back to previous …"
      ]
     },
     "metadata": {},
     "output_type": "display_data"
    }
   ],
   "source": [
    "%matplotlib widget\n",
    "classify = MNISTClassify().float()\n",
    "learning_rate = 0.01\n",
    "optimizer = torch.optim.SGD(classify.parameters(), lr = learning_rate)\n",
    "#optimizer = torch.optim.Adam(classify.parameters())\n",
    "#loss = nn.CrossEntropyLoss\n",
    "dev_time = 0\n",
    "plot_data = defaultdict(lambda : [])\n",
    "\n",
    "start = time.time()\n",
    "for epoch in range(5):\n",
    "    print((\"Epoch {} starting\".format(epoch+1)))\n",
    "    random.shuffle(training)\n",
    "    # train model:\n",
    "    recent_errors = []\n",
    "    for cls, img in training:\n",
    "        optimizer.zero_grad()\n",
    "        # Bild als Eingabe aufbereiten\n",
    "        x = torch.tensor(img).float()\n",
    "        # Outputaktivierung berechnen\n",
    "        output = classify(x)\n",
    "        # \"idealen\" Output (überall 0, nur gewählte Klasse ist 1)\n",
    "        target = torch.zeros(10).long()\n",
    "        target[cls] = 1.0\n",
    "        # Kostenfunktion berechnen\n",
    "        loss = torch.sum((output - target) ** 2)\n",
    "        # loss  = nn.functional.nll_loss(output, torch.tensor(cls).long())\n",
    "        plot_data[\"error\"].append(loss.item())\n",
    "        recent_errors.append(loss.item())\n",
    "        if len(recent_errors) > 100:\n",
    "            recent_errors = recent_errors[-100:-1] # keep only the last part\n",
    "        plot_data[\"recent avg. error\"].append(sum(recent_errors) / len(recent_errors))\n",
    "        # Kosten den einzelnen Parametern zuordnen\n",
    "        loss.backward()\n",
    "        # Parameter entsprechend anpassen\n",
    "        optimizer.step()\n",
    "\n",
    "    # test performance of classifier:\n",
    "    confusion = [[0 for _ in range(10)] for _ in range(10)]\n",
    "    correct = 0\n",
    "    dev_start = time.time()\n",
    "    for cls, img in testing:\n",
    "        optimizer.zero_grad()\n",
    "        x = torch.tensor(img).float()\n",
    "        output = classify(x)\n",
    "        prediction = int(torch.topk(output, 1)[1].item())\n",
    "        if cls == prediction:\n",
    "            correct += 1\n",
    "        confusion[prediction][cls] += 1\n",
    "    dev_end = time.time()\n",
    "    acc = float(correct) / len(testing)\n",
    "    dev_time += dev_end - dev_start\n",
    "    print((\"Held out accuracy {} ({} instances/sec)\".format(\n",
    "        acc, len(testing) / (dev_end - dev_start))))\n",
    "    print('   ' + ''.join(('T'+str(x)).ljust(6) for x in range(10)))\n",
    "    for p, row in enumerate(confusion):\n",
    "        s = 'P' + str(p) + ' '\n",
    "        s += ''.join(str(col).ljust(6) for col in row)\n",
    "        print(s)\n",
    "\n",
    "    end = time.time()\n",
    "    print((\"instances per sec: {}\".format(\n",
    "                (epoch * len(training)) / (end - start - dev_time))))\n",
    "\n",
    "plot(plot_data)"
   ]
  },
  {
   "cell_type": "code",
   "execution_count": 32,
   "id": "1c96d8c5",
   "metadata": {},
   "outputs": [],
   "source": [
    "# This cell provides an alternative to the above implementation. It should do precisely the same but defers the actual implementation to \n",
    "# sub-modules (nn.Linear).\n",
    "\n",
    "class MNISTClassify(nn.Module):\n",
    "    \"\"\"the same but using the built-in modules for densely connected feed-forward layers\"\"\"\n",
    "    def __init__(self):\n",
    "        super(MNISTClassify, self).__init__()\n",
    "        input_size = 28 * 28\n",
    "        self.l1 = nn.Linear(input_size, HIDDEN_DIM1)\n",
    "        self.l2 = nn.Linear(HIDDEN_DIM1, HIDDEN_DIM2)\n",
    "        self.l3 = nn.Linear(HIDDEN_DIM2, 10)\n",
    "\n",
    "    def forward(self, x):\n",
    "        return nn.functional.log_softmax(self.l3(nn.functional.sigmoid(self.l2(nn.functional.sigmoid(self.l1(x))))), dim=-1)\n"
   ]
  },
  {
   "cell_type": "code",
   "execution_count": null,
   "id": "93016f8a-9f13-4ce2-a31f-ea6ec9b1000f",
   "metadata": {},
   "outputs": [],
   "source": []
  }
 ],
 "metadata": {
  "kernelspec": {
   "display_name": "Python 3 (ipykernel)",
   "language": "python",
   "name": "python3"
  },
  "language_info": {
   "codemirror_mode": {
    "name": "ipython",
    "version": 3
   },
   "file_extension": ".py",
   "mimetype": "text/x-python",
   "name": "python",
   "nbconvert_exporter": "python",
   "pygments_lexer": "ipython3",
   "version": "3.10.12"
  }
 },
 "nbformat": 4,
 "nbformat_minor": 5
}
