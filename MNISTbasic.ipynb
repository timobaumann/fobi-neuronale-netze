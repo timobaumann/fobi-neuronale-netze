{
 "cells": [
  {
   "cell_type": "markdown",
   "id": "8f71c223",
   "metadata": {
    "editable": true,
    "slideshow": {
     "slide_type": ""
    },
    "tags": []
   },
   "source": [
    "# Simplistic attempts at an MNIST classifier: The Hello World of neural networks.\n",
    "\n",
    "The code here roughly reproduces what's done in 3Blue1Brown's introductory videos on neural networks. \n",
    "In case you have never seen those videos: you absolutely must! They are awesome! They can be found at: https://www.3blue1brown.com/topics/neural-networks \n",
    "\n",
    "Classifying digits is the \"Hello World\" of neural networks – a moderately difficult task that can be solved reasonably well even with a simple neural network. It's also possible to train on standard computers without having to wait forever."
   ]
  },
  {
   "cell_type": "code",
   "execution_count": 1,
   "id": "5f37d7c5",
   "metadata": {
    "editable": true,
    "slideshow": {
     "slide_type": ""
    },
    "tags": []
   },
   "outputs": [],
   "source": [
    "import time\n",
    "import random\n",
    "import os\n",
    "import struct\n",
    "import numpy as np\n",
    "import torch\n",
    "import torch.nn as nn\n",
    "import ipywidgets as widgets\n",
    "import PIL.Image"
   ]
  },
  {
   "cell_type": "code",
   "execution_count": 19,
   "id": "6928e5c9",
   "metadata": {
    "editable": true,
    "slideshow": {
     "slide_type": ""
    },
    "tags": []
   },
   "outputs": [],
   "source": [
    "%%capture\n",
    "# now, the following is cool: it lets us import functions that we define in other notebooks! \n",
    "%run PyTorch.ipynb import plot\n",
    "# (The drawback: we hardly ever write notebooks in a way that makes for good modules to import from; \n",
    "# specifically: the whole PyTorch notebook is run above, not only the cell that defines the plot function. \n",
    "# Calling %run can easily become slow.)\n",
    "# we use capture above to avoid seeing all the output that results from executing the notebook. "
   ]
  },
  {
   "cell_type": "code",
   "execution_count": 14,
   "id": "b3f4dbbd",
   "metadata": {},
   "outputs": [],
   "source": [
    "# this code reads a database of digits (the database is already included in the repository)\n",
    "# please don't look too closely at this code, I'm not proud of it.\n",
    "# minimally adapted from https://gist.github.com/akesling/5358964\n",
    "def read_mnist(dataset, path=\"data/MNIST/raw/\"):\n",
    "    if dataset == \"training\":\n",
    "        fname_img = os.path.join(path, \"train-images-idx3-ubyte\")\n",
    "        fname_lbl = os.path.join(path, \"train-labels-idx1-ubyte\")\n",
    "    elif dataset == \"testing\":\n",
    "        fname_img = os.path.join(path, \"t10k-images-idx3-ubyte\")\n",
    "        fname_lbl = os.path.join(path, \"t10k-labels-idx1-ubyte\")\n",
    "    else:\n",
    "        raise ValueError(\"dataset must be 'testing' or 'training'\")\n",
    "\n",
    "    # Load everything in some numpy arrays\n",
    "    with open(fname_lbl, \"rb\") as flbl:\n",
    "        magic, num = struct.unpack(\">II\", flbl.read(8))\n",
    "        labels = np.fromfile(flbl, dtype=np.int8)\n",
    "\n",
    "    with open(fname_img, \"rb\") as fimg:\n",
    "        magic, num, rows, cols = struct.unpack(\">IIII\", fimg.read(16))\n",
    "        images = np.multiply(\n",
    "            np.fromfile(fimg, dtype=np.uint8).reshape(len(labels), rows*cols),\n",
    "            1.0 / 255.0)\n",
    "\n",
    "    get_instance = lambda idx: (labels[idx], images[idx])\n",
    "\n",
    "    # Create an iterator which returns each image in turn\n",
    "    for i in range(len(labels)):\n",
    "        yield get_instance(i)\n",
    "        \n",
    "training = [(lbl, img) for (lbl, img) in read_mnist(\"training\")]\n",
    "testing = [(lbl, img) for (lbl, img) in read_mnist(\"testing\")]"
   ]
  },
  {
   "cell_type": "code",
   "execution_count": 35,
   "id": "15265891",
   "metadata": {},
   "outputs": [
    {
     "data": {
      "text/plain": [
       "0"
      ]
     },
     "metadata": {},
     "output_type": "display_data"
    },
    {
     "data": {
      "application/vnd.jupyter.widget-view+json": {
       "model_id": "e68a9c7fd0264699ad51ff426315d3bd",
       "version_major": 2,
       "version_minor": 0
      },
      "text/plain": [
       "Image(value=b'\\x89PNG\\r\\n\\x1a\\n\\x00\\x00\\x00\\rIHDR\\x00\\x00\\x00\\x1c\\x00\\x00\\x00\\x1c\\x08\\x00\\x00\\x00\\x00Wf\\x80H\\x…"
      ]
     },
     "metadata": {},
     "output_type": "display_data"
    },
    {
     "data": {
      "text/plain": [
       "9"
      ]
     },
     "metadata": {},
     "output_type": "display_data"
    },
    {
     "data": {
      "application/vnd.jupyter.widget-view+json": {
       "model_id": "5981d23c830440bdbfe4d563b32b1fe1",
       "version_major": 2,
       "version_minor": 0
      },
      "text/plain": [
       "Image(value=b'\\x89PNG\\r\\n\\x1a\\n\\x00\\x00\\x00\\rIHDR\\x00\\x00\\x00\\x1c\\x00\\x00\\x00\\x1c\\x08\\x00\\x00\\x00\\x00Wf\\x80H\\x…"
      ]
     },
     "metadata": {},
     "output_type": "display_data"
    },
    {
     "data": {
      "text/plain": [
       "1"
      ]
     },
     "metadata": {},
     "output_type": "display_data"
    },
    {
     "data": {
      "application/vnd.jupyter.widget-view+json": {
       "model_id": "188f2c049154407fa4fc65efeab046a4",
       "version_major": 2,
       "version_minor": 0
      },
      "text/plain": [
       "Image(value=b'\\x89PNG\\r\\n\\x1a\\n\\x00\\x00\\x00\\rIHDR\\x00\\x00\\x00\\x1c\\x00\\x00\\x00\\x1c\\x08\\x00\\x00\\x00\\x00Wf\\x80H\\x…"
      ]
     },
     "metadata": {},
     "output_type": "display_data"
    },
    {
     "data": {
      "text/plain": [
       "0"
      ]
     },
     "metadata": {},
     "output_type": "display_data"
    },
    {
     "data": {
      "application/vnd.jupyter.widget-view+json": {
       "model_id": "ebdf2950a8494fec9227a2b8d98f7c44",
       "version_major": 2,
       "version_minor": 0
      },
      "text/plain": [
       "Image(value=b'\\x89PNG\\r\\n\\x1a\\n\\x00\\x00\\x00\\rIHDR\\x00\\x00\\x00\\x1c\\x00\\x00\\x00\\x1c\\x08\\x00\\x00\\x00\\x00Wf\\x80H\\x…"
      ]
     },
     "metadata": {},
     "output_type": "display_data"
    },
    {
     "data": {
      "text/plain": [
       "7"
      ]
     },
     "metadata": {},
     "output_type": "display_data"
    },
    {
     "data": {
      "application/vnd.jupyter.widget-view+json": {
       "model_id": "e5ce2869c88c410ba76ff819b498937f",
       "version_major": 2,
       "version_minor": 0
      },
      "text/plain": [
       "Image(value=b'\\x89PNG\\r\\n\\x1a\\n\\x00\\x00\\x00\\rIHDR\\x00\\x00\\x00\\x1c\\x00\\x00\\x00\\x1c\\x08\\x00\\x00\\x00\\x00Wf\\x80H\\x…"
      ]
     },
     "metadata": {},
     "output_type": "display_data"
    },
    {
     "data": {
      "text/plain": [
       "2"
      ]
     },
     "metadata": {},
     "output_type": "display_data"
    },
    {
     "data": {
      "application/vnd.jupyter.widget-view+json": {
       "model_id": "f123477c1b83405a8cc85812613841e5",
       "version_major": 2,
       "version_minor": 0
      },
      "text/plain": [
       "Image(value=b'\\x89PNG\\r\\n\\x1a\\n\\x00\\x00\\x00\\rIHDR\\x00\\x00\\x00\\x1c\\x00\\x00\\x00\\x1c\\x08\\x00\\x00\\x00\\x00Wf\\x80H\\x…"
      ]
     },
     "metadata": {},
     "output_type": "display_data"
    },
    {
     "data": {
      "text/plain": [
       "7"
      ]
     },
     "metadata": {},
     "output_type": "display_data"
    },
    {
     "data": {
      "application/vnd.jupyter.widget-view+json": {
       "model_id": "3a2ecf2b25fb46a6b0ffee7d8668abce",
       "version_major": 2,
       "version_minor": 0
      },
      "text/plain": [
       "Image(value=b'\\x89PNG\\r\\n\\x1a\\n\\x00\\x00\\x00\\rIHDR\\x00\\x00\\x00\\x1c\\x00\\x00\\x00\\x1c\\x08\\x00\\x00\\x00\\x00Wf\\x80H\\x…"
      ]
     },
     "metadata": {},
     "output_type": "display_data"
    },
    {
     "data": {
      "text/plain": [
       "6"
      ]
     },
     "metadata": {},
     "output_type": "display_data"
    },
    {
     "data": {
      "application/vnd.jupyter.widget-view+json": {
       "model_id": "28c1d814137042b893921d3620c65013",
       "version_major": 2,
       "version_minor": 0
      },
      "text/plain": [
       "Image(value=b'\\x89PNG\\r\\n\\x1a\\n\\x00\\x00\\x00\\rIHDR\\x00\\x00\\x00\\x1c\\x00\\x00\\x00\\x1c\\x08\\x00\\x00\\x00\\x00Wf\\x80H\\x…"
      ]
     },
     "metadata": {},
     "output_type": "display_data"
    },
    {
     "data": {
      "text/plain": [
       "4"
      ]
     },
     "metadata": {},
     "output_type": "display_data"
    },
    {
     "data": {
      "application/vnd.jupyter.widget-view+json": {
       "model_id": "d2d985d6fcb7489a90207300b481d595",
       "version_major": 2,
       "version_minor": 0
      },
      "text/plain": [
       "Image(value=b'\\x89PNG\\r\\n\\x1a\\n\\x00\\x00\\x00\\rIHDR\\x00\\x00\\x00\\x1c\\x00\\x00\\x00\\x1c\\x08\\x00\\x00\\x00\\x00Wf\\x80H\\x…"
      ]
     },
     "metadata": {},
     "output_type": "display_data"
    },
    {
     "data": {
      "text/plain": [
       "1"
      ]
     },
     "metadata": {},
     "output_type": "display_data"
    },
    {
     "data": {
      "application/vnd.jupyter.widget-view+json": {
       "model_id": "f33317fe30dd4e7c9cdff981d4b5f152",
       "version_major": 2,
       "version_minor": 0
      },
      "text/plain": [
       "Image(value=b'\\x89PNG\\r\\n\\x1a\\n\\x00\\x00\\x00\\rIHDR\\x00\\x00\\x00\\x1c\\x00\\x00\\x00\\x1c\\x08\\x00\\x00\\x00\\x00Wf\\x80H\\x…"
      ]
     },
     "metadata": {},
     "output_type": "display_data"
    }
   ],
   "source": [
    "# print some examples (pairs of target number and image)\n",
    "import io\n",
    "for i in range(10):\n",
    "    buffer = io.BytesIO()\n",
    "    PIL.Image.fromarray((256*training[i][1]).reshape(28, 28)).convert('L').save(buffer, format=\"PNG\")\n",
    "    display(training[i][0], widgets.Image(value=buffer.getvalue(),width=28,height=28))"
   ]
  },
  {
   "cell_type": "markdown",
   "id": "131a6111-6c96-4811-9056-193e13b283eb",
   "metadata": {},
   "source": [
    "# A simple neural network for MNIST\n",
    "In MNIST we have grayscale images of digits, 28x28 pixels in size (as shown above). \n",
    "We will define a network with two inner (hidden) layers, each with 16 neurons, and an output layer with 10 neurons, one per digit.\n",
    "Let's go!"
   ]
  },
  {
   "cell_type": "code",
   "execution_count": 16,
   "id": "5a1def90",
   "metadata": {},
   "outputs": [],
   "source": [
    "HIDDEN_DIM1 = 16\n",
    "HIDDEN_DIM2 = 16"
   ]
  },
  {
   "cell_type": "code",
   "execution_count": 23,
   "id": "45dda405",
   "metadata": {},
   "outputs": [],
   "source": [
    "class MNISTClassify(nn.Module):\n",
    "    def __init__(self):\n",
    "        super(MNISTClassify, self).__init__()\n",
    "        input_size = 28 * 28\n",
    "        self.W1 = nn.Parameter(nn.init.xavier_uniform_(torch.empty(input_size, HIDDEN_DIM1)))\n",
    "        self.b1 = nn.Parameter(nn.init.xavier_uniform_(torch.empty(1, HIDDEN_DIM1)))\n",
    "        self.W2 = nn.Parameter(nn.init.xavier_uniform_(torch.empty(HIDDEN_DIM1, HIDDEN_DIM2)))\n",
    "        self.b2 = nn.Parameter(nn.init.xavier_uniform_(torch.empty(1, HIDDEN_DIM2)))\n",
    "        self.W3 = nn.Parameter(nn.init.xavier_uniform_(torch.empty(HIDDEN_DIM2, 10)))\n",
    "        self.b3 = nn.Parameter(nn.init.xavier_uniform_(torch.empty(1, 10)))\n",
    "        \n",
    "    def forward(self, x):\n",
    "        # erste innere Schicht:\n",
    "        h1 = nn.functional.sigmoid(x @ self.W1 + self.b1)\n",
    "        # zweite innere Schicht:\n",
    "        h2 = nn.functional.sigmoid(h1 @ self.W2 + self.b2)\n",
    "        # Ergebnisschicht:\n",
    "        activation = nn.functional.sigmoid(h2 @ self.W3 + self.b3)\n",
    "        return activation"
   ]
  },
  {
   "cell_type": "markdown",
   "id": "763486b1-cda2-4b6c-9660-cb704db813d5",
   "metadata": {},
   "source": [
    "What's new here? \n",
    "\n",
    "We're not computing the outputs of individual neurons! Instead, we compute the weighted sum for all output neurons from all weighted input neurons in one matrix multiplication (which uses the ```@``` operator). We then add a bias *vector* (instead of just one bias value). The agreement is that sigmoid called on a vector yields the vector of the sigmoid operation performed on each individual value in the vector.\n",
    "\n",
    "Matrix operations really condense the computations needed for a full layer to <tt>a<sub>out</sub> = &sigma;(a<sub>in</sub> &middot; W + b)</tt>. Note again, that operator overloading makes this concise form possible. \n",
    "\n",
    "What's important to note is that we need to make sure that weight matrices (and bias vectors) are of the right sizes, check the sizes in the constructor.\n",
    "\n",
    "Also, note that we initialize the parameters in a certain way – one that was vital discovery in making deep learning actually work in practice."
   ]
  },
  {
   "cell_type": "markdown",
   "id": "ddc25900-1675-43e1-b9b4-d5a988b99b34",
   "metadata": {},
   "source": [
    "# The training loop.\n",
    "The training is actually quite similar to what we did in the previous exercise. \n",
    "we over and over repeat the following:\n",
    "* have the network produce some output (**new:** there's now input involved!)\n",
    "* compute the desired output (**new:** this also comes from data!)\n",
    "* compute the model loss as the squared error between target and estimate\n",
    "* compute the gradients of the error wrt. all parameters\n",
    "* adjust errors a little bit in the right direction.\n",
    "\n",
    "We perform this repeatedly and every time with a different image. Once we're through with every image, we repeat, for a total of 5 repetitions (each repetition is called an *epoch*). \n",
    "After every epoch, we **test** the model on some validation data. In that way, we have a better chance at assessing the real-world performance of the model on new data, as compared to data that has been seen in training."
   ]
  },
  {
   "cell_type": "code",
   "execution_count": 33,
   "id": "0f16f533-cdef-4a01-a7d4-23a0365ff899",
   "metadata": {
    "editable": true,
    "slideshow": {
     "slide_type": ""
    },
    "tags": []
   },
   "outputs": [
    {
     "name": "stdout",
     "output_type": "stream",
     "text": [
      "Epoch 1 starting\n",
      "Held out accuracy 0.8932 (14860.049664539385 instances/sec)\n",
      "   T0    T1    T2    T3    T4    T5    T6    T7    T8    T9    \n",
      "P0 941   0     12    6     0     14    18    4     10    18    \n",
      "P1 0     1096  7     3     4     4     2     19    10    7     \n",
      "P2 6     12    940   53    18    11    24    48    24    18    \n",
      "P3 3     1     8     838   0     18    0     7     30    12    \n",
      "P4 0     1     13    0     893   4     14    5     7     49    \n",
      "P5 18    5     1     63    12    794   28    2     47    19    \n",
      "P6 9     4     7     4     10    12    866   1     11    0     \n",
      "P7 1     1     22    18    4     8     2     925   12    48    \n",
      "P8 2     14    20    14    6     22    4     0     808   7     \n",
      "P9 0     1     2     11    35    5     0     17    15    831   \n",
      "instances per sec: 0.0\n",
      "Epoch 2 starting\n",
      "Held out accuracy 0.9113 (14779.599429296512 instances/sec)\n",
      "   T0    T1    T2    T3    T4    T5    T6    T7    T8    T9    \n",
      "P0 958   0     18    7     1     31    14    6     11    17    \n",
      "P1 0     1104  7     2     1     5     3     19    8     8     \n",
      "P2 2     5     906   18    3     5     3     30    6     2     \n",
      "P3 1     2     13    905   0     37    0     7     16    12    \n",
      "P4 0     1     16    1     932   19    13    9     12    49    \n",
      "P5 3     2     0     16    0     712   8     0     6     4     \n",
      "P6 11    5     11    4     15    19    906   0     11    1     \n",
      "P7 2     2     16    12    2     9     1     922   6     10    \n",
      "P8 3     13    42    33    9     45    10    7     875   13    \n",
      "P9 0     1     3     12    19    10    0     28    23    893   \n",
      "instances per sec: 2133.321777406347\n",
      "Epoch 3 starting\n",
      "Held out accuracy 0.9186 (14812.911373718489 instances/sec)\n",
      "   T0    T1    T2    T3    T4    T5    T6    T7    T8    T9    \n",
      "P0 952   0     11    4     0     16    9     5     6     13    \n",
      "P1 0     1107  6     0     4     2     3     14    5     7     \n",
      "P2 1     4     911   16    3     1     2     25    6     1     \n",
      "P3 1     2     20    912   3     27    2     12    25    14    \n",
      "P4 0     0     13    1     914   7     9     7     8     37    \n",
      "P5 9     4     11    31    8     789   21    2     28    10    \n",
      "P6 12    4     10    3     12    16    904   0     11    0     \n",
      "P7 2     2     14    12    2     6     0     934   6     10    \n",
      "P8 3     11    31    20    10    19    8     2     853   7     \n",
      "P9 0     1     5     11    26    9     0     27    26    910   \n",
      "instances per sec: 2843.1582304032754\n",
      "Epoch 4 starting\n",
      "Held out accuracy 0.9163 (14773.040345369636 instances/sec)\n",
      "   T0    T1    T2    T3    T4    T5    T6    T7    T8    T9    \n",
      "P0 964   0     18    8     1     25    14    6     11    16    \n",
      "P1 0     1104  3     1     3     2     3     13    2     7     \n",
      "P2 2     3     924   16    4     2     4     25    4     1     \n",
      "P3 1     2     6     901   1     46    2     8     11    11    \n",
      "P4 0     1     13    2     923   14    9     9     11    51    \n",
      "P5 1     1     1     13    0     722   6     0     8     4     \n",
      "P6 10    5     9     4     12    20    903   0     9     1     \n",
      "P7 1     2     15    14    2     10    0     936   6     13    \n",
      "P8 1     16    40    39    13    41    17    9     898   17    \n",
      "P9 0     1     3     12    23    10    0     22    14    888   \n",
      "instances per sec: 3197.5346698905446\n",
      "Epoch 5 starting\n",
      "Held out accuracy 0.9208 (14716.79933866922 instances/sec)\n",
      "   T0    T1    T2    T3    T4    T5    T6    T7    T8    T9    \n",
      "P0 961   0     12    6     1     19    9     3     8     7     \n",
      "P1 0     1113  5     1     7     5     3     15    8     10    \n",
      "P2 3     3     924   16    5     1     4     25    3     1     \n",
      "P3 1     1     13    897   1     26    1     8     8     9     \n",
      "P4 0     0     8     0     900   6     9     7     10    26    \n",
      "P5 3     2     3     23    0     763   13    0     11    6     \n",
      "P6 9     4     8     3     10    15    898   0     6     1     \n",
      "P7 1     2     14    14    2     10    0     936   7     12    \n",
      "P8 2     9     38    35    14    37    21    7     896   17    \n",
      "P9 0     1     7     15    42    10    0     27    17    920   \n",
      "instances per sec: 3411.6301558275613\n"
     ]
    },
    {
     "data": {
      "application/vnd.jupyter.widget-view+json": {
       "model_id": "e06a5098f4b3436d974fb6cfb77b83c7",
       "version_major": 2,
       "version_minor": 0
      },
      "image/png": "[encoded data removed]",
      "text/html": [
       "\n",
       "            <div style=\"display: inline-block;\">\n",
       "                <div class=\"jupyter-widgets widget-label\" style=\"text-align: center;\">\n",
       "                    evolution over training iterations\n",
       "                </div>\n",
       "                <img src='data:image/png;base64,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' width=640.0/>\n",
       "            </div>\n",
       "        "
      ],
      "text/plain": [
       "Canvas(toolbar=Toolbar(toolitems=[('Home', 'Reset original view', 'home', 'home'), ('Back', 'Back to previous …"
      ]
     },
     "metadata": {},
     "output_type": "display_data"
    }
   ],
   "source": [
    "%matplotlib widget\n",
    "classify = MNISTClassify().float()\n",
    "learning_rate = 0.01\n",
    "optimizer = torch.optim.SGD(classify.parameters(), lr = learning_rate)\n",
    "#optimizer = torch.optim.Adam(classify.parameters())\n",
    "#loss = nn.CrossEntropyLoss\n",
    "dev_time = 0\n",
    "plot_data = defaultdict(lambda : [])\n",
    "\n",
    "start = time.time()\n",
    "for epoch in range(5):\n",
    "    print((\"Epoch {} starting\".format(epoch+1)))\n",
    "    random.shuffle(training)\n",
    "    # train model:\n",
    "    recent_errors = []\n",
    "    for cls, img in training:\n",
    "        optimizer.zero_grad()\n",
    "        # Bild als Eingabe aufbereiten\n",
    "        x = torch.tensor(img).float()\n",
    "        # Outputaktivierung berechnen\n",
    "        output = classify(x)\n",
    "        # \"idealen\" Output (überall 0, nur gewählte Klasse ist 1)\n",
    "        target = torch.zeros(10).long()\n",
    "        target[cls] = 1.0\n",
    "        # Kostenfunktion berechnen\n",
    "        loss = torch.sum((output - target) ** 2)\n",
    "        # loss  = nn.functional.nll_loss(output, torch.tensor(cls).long())\n",
    "        plot_data[\"error\"].append(loss.item())\n",
    "        recent_errors.append(loss.item())\n",
    "        if len(recent_errors) > 100:\n",
    "            recent_errors = recent_errors[-100:-1] # keep only the last part\n",
    "        plot_data[\"recent avg. error\"].append(sum(recent_errors) / len(recent_errors))\n",
    "        # Kosten den einzelnen Parametern zuordnen\n",
    "        loss.backward()\n",
    "        # Parameter entsprechend anpassen\n",
    "        optimizer.step()\n",
    "\n",
    "    # test performance of classifier:\n",
    "    confusion = [[0 for _ in range(10)] for _ in range(10)]\n",
    "    correct = 0\n",
    "    dev_start = time.time()\n",
    "    for cls, img in testing:\n",
    "        optimizer.zero_grad()\n",
    "        x = torch.tensor(img).float()\n",
    "        output = classify(x)\n",
    "        prediction = int(torch.topk(output, 1)[1].item())\n",
    "        if cls == prediction:\n",
    "            correct += 1\n",
    "        confusion[prediction][cls] += 1\n",
    "    dev_end = time.time()\n",
    "    acc = float(correct) / len(testing)\n",
    "    dev_time += dev_end - dev_start\n",
    "    print((\"Held out accuracy {} ({} instances/sec)\".format(\n",
    "        acc, len(testing) / (dev_end - dev_start))))\n",
    "    print('   ' + ''.join(('T'+str(x)).ljust(6) for x in range(10)))\n",
    "    for p, row in enumerate(confusion):\n",
    "        s = 'P' + str(p) + ' '\n",
    "        s += ''.join(str(col).ljust(6) for col in row)\n",
    "        print(s)\n",
    "\n",
    "    end = time.time()\n",
    "    print((\"instances per sec: {}\".format(\n",
    "                (epoch * len(training)) / (end - start - dev_time))))\n",
    "\n",
    "plot(plot_data)"
   ]
  },
  {
   "cell_type": "code",
   "execution_count": 32,
   "id": "1c96d8c5",
   "metadata": {},
   "outputs": [],
   "source": [
    "# This cell provides an alternative to the above implementation. It should do precisely the same but defers the actual implementation to \n",
    "# sub-modules (nn.Linear).\n",
    "\n",
    "class MNISTClassify(nn.Module):\n",
    "    \"\"\"the same but using the built-in modules for densely connected feed-forward layers\"\"\"\n",
    "    def __init__(self):\n",
    "        super(MNISTClassify, self).__init__()\n",
    "        input_size = 28 * 28\n",
    "        self.l1 = nn.Linear(input_size, HIDDEN_DIM1)\n",
    "        self.l2 = nn.Linear(HIDDEN_DIM1, HIDDEN_DIM2)\n",
    "        self.l3 = nn.Linear(HIDDEN_DIM2, 10)\n",
    "\n",
    "    def forward(self, x):\n",
    "        return nn.functional.log_softmax(self.l3(nn.functional.sigmoid(self.l2(nn.functional.sigmoid(self.l1(x))))), dim=-1)\n"
   ]
  },
  {
   "cell_type": "code",
   "execution_count": null,
   "id": "93016f8a-9f13-4ce2-a31f-ea6ec9b1000f",
   "metadata": {},
   "outputs": [],
   "source": []
  }
 ],
 "metadata": {
  "kernelspec": {
   "display_name": "Python 3 (ipykernel)",
   "language": "python",
   "name": "python3"
  },
  "language_info": {
   "codemirror_mode": {
    "name": "ipython",
    "version": 3
   },
   "file_extension": ".py",
   "mimetype": "text/x-python",
   "name": "python",
   "nbconvert_exporter": "python",
   "pygments_lexer": "ipython3",
   "version": "3.10.12"
  }
 },
 "nbformat": 4,
 "nbformat_minor": 5
}
