{
 "cells": [
  {
   "cell_type": "markdown",
   "id": "8f71c223",
   "metadata": {
    "editable": true,
    "slideshow": {
     "slide_type": ""
    },
    "tags": []
   },
   "source": [
    "# Simplistic attempts at an MNIST classifier: The Hello World of neural networks.\n",
    "\n",
    "The code here roughly reproduces what's done in 3Blue1Brown's introductory videos on neural networks. \n",
    "In case you have never seen those videos: you absolutely must! They are awesome! They can be found at: https://www.3blue1brown.com/topics/neural-networks \n",
    "\n",
    "Classifying digits is the \"Hello World\" of neural networks – a moderately difficult task that can be solved reasonably well even with a simple neural network. It's also possible to train on standard computers without having to wait forever."
   ]
  },
  {
   "cell_type": "code",
   "execution_count": 1,
   "id": "5f37d7c5",
   "metadata": {
    "editable": true,
    "slideshow": {
     "slide_type": ""
    },
    "tags": []
   },
   "outputs": [],
   "source": [
    "import time\n",
    "import random\n",
    "import os\n",
    "import struct\n",
    "import numpy as np\n",
    "import torch\n",
    "import torch.nn as nn\n",
    "import ipywidgets as widgets\n",
    "import PIL.Image"
   ]
  },
  {
   "cell_type": "code",
   "execution_count": 3,
   "id": "0397801a-1a87-4a47-bc12-ee23e9879241",
   "metadata": {},
   "outputs": [],
   "source": [
    "# try this if you want to train your model on the GPU.\n",
    "device = torch.device(\"cuda:0\" if torch.cuda.is_available() else \"cpu\")"
   ]
  },
  {
   "cell_type": "code",
   "execution_count": 4,
   "id": "6928e5c9",
   "metadata": {
    "editable": true,
    "slideshow": {
     "slide_type": ""
    },
    "tags": []
   },
   "outputs": [],
   "source": [
    "%%capture\n",
    "# now, the following is cool: it lets us import functions that we define in other notebooks! \n",
    "%run PyTorch.ipynb import plot\n",
    "# (The drawback: we hardly ever write notebooks in a way that makes for good modules to import from; \n",
    "# specifically: the whole PyTorch notebook is run above, not only the cell that defines the plot function. \n",
    "# Calling %run can easily become slow.)\n",
    "# we use capture above to avoid seeing all the output that results from executing the notebook. "
   ]
  },
  {
   "cell_type": "code",
   "execution_count": 5,
   "id": "b3f4dbbd",
   "metadata": {},
   "outputs": [],
   "source": [
    "# this code reads a database of digits (the database is already included in the repository)\n",
    "# please don't look too closely at this code, I'm not proud of it.\n",
    "# minimally adapted from https://gist.github.com/akesling/5358964\n",
    "def read_mnist(dataset, path=\"data/MNIST/raw/\"):\n",
    "    if dataset == \"training\":\n",
    "        fname_img = os.path.join(path, \"train-images-idx3-ubyte\")\n",
    "        fname_lbl = os.path.join(path, \"train-labels-idx1-ubyte\")\n",
    "    elif dataset == \"testing\":\n",
    "        fname_img = os.path.join(path, \"t10k-images-idx3-ubyte\")\n",
    "        fname_lbl = os.path.join(path, \"t10k-labels-idx1-ubyte\")\n",
    "    else:\n",
    "        raise ValueError(\"dataset must be 'testing' or 'training'\")\n",
    "\n",
    "    # Load everything in some numpy arrays\n",
    "    with open(fname_lbl, \"rb\") as flbl:\n",
    "        magic, num = struct.unpack(\">II\", flbl.read(8))\n",
    "        labels = np.fromfile(flbl, dtype=np.int8)\n",
    "\n",
    "    with open(fname_img, \"rb\") as fimg:\n",
    "        magic, num, rows, cols = struct.unpack(\">IIII\", fimg.read(16))\n",
    "        images = np.multiply(\n",
    "            np.fromfile(fimg, dtype=np.uint8).reshape(len(labels), rows*cols),\n",
    "            1.0 / 255.0)\n",
    "\n",
    "    get_instance = lambda idx: (labels[idx], images[idx])\n",
    "\n",
    "    # Create an iterator which returns each image in turn\n",
    "    for i in range(len(labels)):\n",
    "        yield get_instance(i)\n",
    "        \n",
    "training = [(lbl, img) for (lbl, img) in read_mnist(\"training\")]\n",
    "testing = [(lbl, img) for (lbl, img) in read_mnist(\"testing\")]"
   ]
  },
  {
   "cell_type": "code",
   "execution_count": 6,
   "id": "15265891",
   "metadata": {},
   "outputs": [
    {
     "data": {
      "text/plain": [
       "5"
      ]
     },
     "metadata": {},
     "output_type": "display_data"
    },
    {
     "data": {
      "application/vnd.jupyter.widget-view+json": {
       "model_id": "d4b7c58f55974d3d8b9bef42843931eb",
       "version_major": 2,
       "version_minor": 0
      },
      "text/plain": [
       "Image(value=b'\\x89PNG\\r\\n\\x1a\\n\\x00\\x00\\x00\\rIHDR\\x00\\x00\\x00\\x1c\\x00\\x00\\x00\\x1c\\x08\\x00\\x00\\x00\\x00Wf\\x80H\\x…"
      ]
     },
     "metadata": {},
     "output_type": "display_data"
    },
    {
     "data": {
      "text/plain": [
       "0"
      ]
     },
     "metadata": {},
     "output_type": "display_data"
    },
    {
     "data": {
      "application/vnd.jupyter.widget-view+json": {
       "model_id": "35bf2126813042c9b6eb581263baecb8",
       "version_major": 2,
       "version_minor": 0
      },
      "text/plain": [
       "Image(value=b'\\x89PNG\\r\\n\\x1a\\n\\x00\\x00\\x00\\rIHDR\\x00\\x00\\x00\\x1c\\x00\\x00\\x00\\x1c\\x08\\x00\\x00\\x00\\x00Wf\\x80H\\x…"
      ]
     },
     "metadata": {},
     "output_type": "display_data"
    },
    {
     "data": {
      "text/plain": [
       "4"
      ]
     },
     "metadata": {},
     "output_type": "display_data"
    },
    {
     "data": {
      "application/vnd.jupyter.widget-view+json": {
       "model_id": "55a14a2a5a364af98be7b5fbf0df0175",
       "version_major": 2,
       "version_minor": 0
      },
      "text/plain": [
       "Image(value=b'\\x89PNG\\r\\n\\x1a\\n\\x00\\x00\\x00\\rIHDR\\x00\\x00\\x00\\x1c\\x00\\x00\\x00\\x1c\\x08\\x00\\x00\\x00\\x00Wf\\x80H\\x…"
      ]
     },
     "metadata": {},
     "output_type": "display_data"
    },
    {
     "data": {
      "text/plain": [
       "1"
      ]
     },
     "metadata": {},
     "output_type": "display_data"
    },
    {
     "data": {
      "application/vnd.jupyter.widget-view+json": {
       "model_id": "78402f0800444e4aa9a6600e5fc75fa9",
       "version_major": 2,
       "version_minor": 0
      },
      "text/plain": [
       "Image(value=b'\\x89PNG\\r\\n\\x1a\\n\\x00\\x00\\x00\\rIHDR\\x00\\x00\\x00\\x1c\\x00\\x00\\x00\\x1c\\x08\\x00\\x00\\x00\\x00Wf\\x80H\\x…"
      ]
     },
     "metadata": {},
     "output_type": "display_data"
    },
    {
     "data": {
      "text/plain": [
       "9"
      ]
     },
     "metadata": {},
     "output_type": "display_data"
    },
    {
     "data": {
      "application/vnd.jupyter.widget-view+json": {
       "model_id": "4a138c6e22c94ea78ba5aa75921f386b",
       "version_major": 2,
       "version_minor": 0
      },
      "text/plain": [
       "Image(value=b'\\x89PNG\\r\\n\\x1a\\n\\x00\\x00\\x00\\rIHDR\\x00\\x00\\x00\\x1c\\x00\\x00\\x00\\x1c\\x08\\x00\\x00\\x00\\x00Wf\\x80H\\x…"
      ]
     },
     "metadata": {},
     "output_type": "display_data"
    },
    {
     "data": {
      "text/plain": [
       "2"
      ]
     },
     "metadata": {},
     "output_type": "display_data"
    },
    {
     "data": {
      "application/vnd.jupyter.widget-view+json": {
       "model_id": "acc501a88065415b8c9ce0e525ef4047",
       "version_major": 2,
       "version_minor": 0
      },
      "text/plain": [
       "Image(value=b'\\x89PNG\\r\\n\\x1a\\n\\x00\\x00\\x00\\rIHDR\\x00\\x00\\x00\\x1c\\x00\\x00\\x00\\x1c\\x08\\x00\\x00\\x00\\x00Wf\\x80H\\x…"
      ]
     },
     "metadata": {},
     "output_type": "display_data"
    },
    {
     "data": {
      "text/plain": [
       "1"
      ]
     },
     "metadata": {},
     "output_type": "display_data"
    },
    {
     "data": {
      "application/vnd.jupyter.widget-view+json": {
       "model_id": "b4c2c4980abe4b28a38bd5e8612012aa",
       "version_major": 2,
       "version_minor": 0
      },
      "text/plain": [
       "Image(value=b'\\x89PNG\\r\\n\\x1a\\n\\x00\\x00\\x00\\rIHDR\\x00\\x00\\x00\\x1c\\x00\\x00\\x00\\x1c\\x08\\x00\\x00\\x00\\x00Wf\\x80H\\x…"
      ]
     },
     "metadata": {},
     "output_type": "display_data"
    },
    {
     "data": {
      "text/plain": [
       "3"
      ]
     },
     "metadata": {},
     "output_type": "display_data"
    },
    {
     "data": {
      "application/vnd.jupyter.widget-view+json": {
       "model_id": "c8cd74032f4942f58e98e859ff5e99da",
       "version_major": 2,
       "version_minor": 0
      },
      "text/plain": [
       "Image(value=b'\\x89PNG\\r\\n\\x1a\\n\\x00\\x00\\x00\\rIHDR\\x00\\x00\\x00\\x1c\\x00\\x00\\x00\\x1c\\x08\\x00\\x00\\x00\\x00Wf\\x80H\\x…"
      ]
     },
     "metadata": {},
     "output_type": "display_data"
    },
    {
     "data": {
      "text/plain": [
       "1"
      ]
     },
     "metadata": {},
     "output_type": "display_data"
    },
    {
     "data": {
      "application/vnd.jupyter.widget-view+json": {
       "model_id": "0db6c636f2534c05b5234f7f37c9d0de",
       "version_major": 2,
       "version_minor": 0
      },
      "text/plain": [
       "Image(value=b'\\x89PNG\\r\\n\\x1a\\n\\x00\\x00\\x00\\rIHDR\\x00\\x00\\x00\\x1c\\x00\\x00\\x00\\x1c\\x08\\x00\\x00\\x00\\x00Wf\\x80H\\x…"
      ]
     },
     "metadata": {},
     "output_type": "display_data"
    },
    {
     "data": {
      "text/plain": [
       "4"
      ]
     },
     "metadata": {},
     "output_type": "display_data"
    },
    {
     "data": {
      "application/vnd.jupyter.widget-view+json": {
       "model_id": "ea710ce32d7b447684387bdc5a029474",
       "version_major": 2,
       "version_minor": 0
      },
      "text/plain": [
       "Image(value=b'\\x89PNG\\r\\n\\x1a\\n\\x00\\x00\\x00\\rIHDR\\x00\\x00\\x00\\x1c\\x00\\x00\\x00\\x1c\\x08\\x00\\x00\\x00\\x00Wf\\x80H\\x…"
      ]
     },
     "metadata": {},
     "output_type": "display_data"
    }
   ],
   "source": [
    "# print some examples (pairs of target number and image)\n",
    "import io\n",
    "for i in range(10):\n",
    "    buffer = io.BytesIO()\n",
    "    PIL.Image.fromarray((256*training[i][1]).reshape(28, 28)).convert('L').save(buffer, format=\"PNG\")\n",
    "    display(training[i][0], widgets.Image(value=buffer.getvalue(),width=28,height=28))"
   ]
  },
  {
   "cell_type": "markdown",
   "id": "131a6111-6c96-4811-9056-193e13b283eb",
   "metadata": {},
   "source": [
    "# A simple neural network for MNIST\n",
    "In MNIST we have grayscale images of digits, 28x28 pixels in size (as shown above). \n",
    "We will define a network with two inner (hidden) layers, each with 16 neurons, and an output layer with 10 neurons, one per digit.\n",
    "Let's go!"
   ]
  },
  {
   "cell_type": "code",
   "execution_count": 8,
   "id": "5a1def90",
   "metadata": {},
   "outputs": [],
   "source": [
    "HIDDEN_DIM1 = 16\n",
    "HIDDEN_DIM2 = 16"
   ]
  },
  {
   "cell_type": "code",
   "execution_count": 10,
   "id": "45dda405",
   "metadata": {},
   "outputs": [],
   "source": [
    "class MNISTClassify(nn.Module):\n",
    "    def __init__(self):\n",
    "        super(MNISTClassify, self).__init__()\n",
    "        input_size = 28 * 28\n",
    "        self.W1 = nn.Parameter(nn.init.xavier_uniform_(torch.empty(input_size, HIDDEN_DIM1)))\n",
    "        self.b1 = nn.Parameter(nn.init.xavier_uniform_(torch.empty(1, HIDDEN_DIM1)))\n",
    "        self.W2 = nn.Parameter(nn.init.xavier_uniform_(torch.empty(HIDDEN_DIM1, HIDDEN_DIM2)))\n",
    "        self.b2 = nn.Parameter(nn.init.xavier_uniform_(torch.empty(1, HIDDEN_DIM2)))\n",
    "        self.W3 = nn.Parameter(nn.init.xavier_uniform_(torch.empty(HIDDEN_DIM2, 10)))\n",
    "        self.b3 = nn.Parameter(nn.init.xavier_uniform_(torch.empty(1, 10)))\n",
    "        \n",
    "    def forward(self, x):\n",
    "        # erste innere Schicht:\n",
    "        h1 = nn.functional.sigmoid(x @ self.W1 + self.b1)\n",
    "        # zweite innere Schicht:\n",
    "        h2 = nn.functional.sigmoid(h1 @ self.W2 + self.b2)\n",
    "        # Ergebnisschicht:\n",
    "        activation = nn.functional.log_softmax(h2 @ self.W3 + self.b3, dim=1)\n",
    "        return activation.view(10)"
   ]
  },
  {
   "cell_type": "markdown",
   "id": "763486b1-cda2-4b6c-9660-cb704db813d5",
   "metadata": {},
   "source": [
    "What's new here? \n",
    "\n",
    "We're not computing the outputs of individual neurons! Instead, we compute the weighted sum for all output neurons from all weighted input neurons in one matrix multiplication (which uses the ```@``` operator). We then add a bias *vector* (instead of just one bias value). The agreement is that sigmoid called on a vector yields the vector of the sigmoid operation performed on each individual value in the vector.\n",
    "\n",
    "Matrix operations really condense the computations needed for a full layer to <tt>a<sub>out</sub> = &sigma;(a<sub>in</sub> &middot; W + b)</tt>. Note again, that operator overloading makes this concise form possible. \n",
    "\n",
    "What's important to note is that we need to make sure that weight matrices (and bias vectors) are of the right sizes, check the sizes in the constructor.\n",
    "\n",
    "Also, note that we initialize the parameters in a certain way – one that was vital discovery in making deep learning actually work in practice."
   ]
  },
  {
   "cell_type": "markdown",
   "id": "ddc25900-1675-43e1-b9b4-d5a988b99b34",
   "metadata": {},
   "source": [
    "# The training loop.\n",
    "The training is actually quite similar to what we did in the previous exercise. \n",
    "we over and over repeat the following:\n",
    "* have the network produce some output (**new:** there's now input involved!)\n",
    "* compute the desired output (**new:** this also comes from data!)\n",
    "* compute the model loss as the squared error between target and estimate\n",
    "* compute the gradients of the error wrt. all parameters\n",
    "* adjust errors a little bit in the right direction.\n",
    "\n",
    "We perform this repeatedly and every time with a different image. Once we're through with every image, we repeat, for a total of 5 repetitions (each repetition is called an *epoch*). \n",
    "After every epoch, we **test** the model on some validation data. In that way, we have a better chance at assessing the real-world performance of the model on new data, as compared to data that has been seen in training."
   ]
  },
  {
   "cell_type": "code",
   "execution_count": 12,
   "id": "0f16f533-cdef-4a01-a7d4-23a0365ff899",
   "metadata": {
    "editable": true,
    "slideshow": {
     "slide_type": ""
    },
    "tags": []
   },
   "outputs": [
    {
     "name": "stdout",
     "output_type": "stream",
     "text": [
      "Epoch 1 starting\n",
      "Held out accuracy 0.8918 (7920.027493381573 instances/sec)\n",
      "   T0    T1    T2    T3    T4    T5    T6    T7    T8    T9    \n",
      "P0 951   0     14    7     0     12    8     3     7     5     \n",
      "P1 0     1098  5     4     6     7     3     26    6     6     \n",
      "P2 1     3     869   12    2     5     1     21    3     0     \n",
      "P3 1     1     20    859   0     26    0     3     7     8     \n",
      "P4 0     0     10    1     804   5     6     4     6     15    \n",
      "P5 0     3     0     38    0     719   13    0     15    9     \n",
      "P6 17    5     24    13    24    34    911   6     19    2     \n",
      "P7 1     0     15    12    1     13    0     888   3     4     \n",
      "P8 9     24    60    38    17    49    16    4     874   15    \n",
      "P9 0     1     15    26    128   22    0     73    34    945   \n",
      "instances per sec: 916.9301292496858\n",
      "Epoch 2 starting\n",
      "Held out accuracy 0.9096 (8024.697593760092 instances/sec)\n",
      "   T0    T1    T2    T3    T4    T5    T6    T7    T8    T9    \n",
      "P0 946   0     3     1     1     9     7     1     4     6     \n",
      "P1 0     1094  2     2     4     3     2     17    3     5     \n",
      "P2 2     3     887   9     3     2     1     22    2     1     \n",
      "P3 5     6     31    926   3     54    3     12    22    15    \n",
      "P4 0     0     14    1     900   11    8     11    7     32    \n",
      "P5 4     2     5     18    1     723   12    1     15    8     \n",
      "P6 11    4     18    5     15    29    902   2     11    1     \n",
      "P7 1     0     16    6     1     10    0     916   4     9     \n",
      "P8 11    26    48    31    17    43    23    4     890   20    \n",
      "P9 0     0     8     11    37    8     0     42    16    912   \n",
      "instances per sec: 1076.864114252222\n",
      "Epoch 3 starting\n",
      "Held out accuracy 0.9136 (7978.9844900468715 instances/sec)\n",
      "   T0    T1    T2    T3    T4    T5    T6    T7    T8    T9    \n",
      "P0 954   0     3     4     1     9     8     4     6     6     \n",
      "P1 0     1095  3     1     4     2     3     10    1     5     \n",
      "P2 0     3     897   12    4     1     0     21    2     1     \n",
      "P3 1     2     13    854   0     14    0     5     6     6     \n",
      "P4 0     0     12    0     891   4     7     6     5     22    \n",
      "P5 6     3     11    55    1     800   24    1     17    15    \n",
      "P6 8     5     18    6     15    18    891   2     11    1     \n",
      "P7 1     1     17    11    1     7     0     932   5     12    \n",
      "P8 10    25    54    56    24    30    25    11    911   30    \n",
      "P9 0     1     4     11    41    7     0     36    10    911   \n",
      "instances per sec: 1124.109069436684\n",
      "Epoch 4 starting\n",
      "Held out accuracy 0.9159 (8010.358854872901 instances/sec)\n",
      "   T0    T1    T2    T3    T4    T5    T6    T7    T8    T9    \n",
      "P0 964   0     10    5     3     10    20    6     7     10    \n",
      "P1 0     1097  3     1     3     1     3     9     1     6     \n",
      "P2 0     3     910   12    5     1     0     20    3     1     \n",
      "P3 1     4     16    888   0     24    0     7     8     6     \n",
      "P4 0     1     13    2     928   8     10    8     7     59    \n",
      "P5 4     2     9     33    1     787   24    1     18    15    \n",
      "P6 5     4     11    5     8     16    871   0     8     0     \n",
      "P7 1     2     18    13    1     10    0     949   6     24    \n",
      "P8 5     22    41    43    18    32    30    10    913   36    \n",
      "P9 0     0     1     8     15    3     0     18    3     852   \n",
      "instances per sec: 1152.2422141973827\n",
      "Epoch 5 starting\n",
      "Held out accuracy 0.9151 (7967.445636667501 instances/sec)\n",
      "   T0    T1    T2    T3    T4    T5    T6    T7    T8    T9    \n",
      "P0 953   0     4     4     2     9     13    4     5     6     \n",
      "P1 0     1102  3     1     4     2     3     10    3     6     \n",
      "P2 0     3     912   14    4     2     1     18    1     1     \n",
      "P3 1     1     9     871   0     22    0     2     4     6     \n",
      "P4 0     1     15    2     923   11    16    12    7     47    \n",
      "P5 4     2     9     33    1     783   25    1     12    12    \n",
      "P6 5     4     9     4     7     11    860   0     3     0     \n",
      "P7 1     2     16    14    1     8     0     931   4     13    \n",
      "P8 16    19    52    56    19    37    40    19    925   27    \n",
      "P9 0     1     3     11    21    7     0     31    10    891   \n",
      "instances per sec: 1166.7527604494253\n"
     ]
    },
    {
     "data": {
      "application/vnd.jupyter.widget-view+json": {
       "model_id": "f0ef8c63c7b54ef18f228abbc35cbfdb",
       "version_major": 2,
       "version_minor": 0
      },
      "image/png": "[encoded data removed]",
      "text/html": [
       "\n",
       "            <div style=\"display: inline-block;\">\n",
       "                <div class=\"jupyter-widgets widget-label\" style=\"text-align: center;\">\n",
       "                    evolution over training iterations\n",
       "                </div>\n",
       "                <img src='data:image/png;base64,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' width=640.0/>\n",
       "            </div>\n",
       "        "
      ],
      "text/plain": [
       "Canvas(toolbar=Toolbar(toolitems=[('Home', 'Reset original view', 'home', 'home'), ('Back', 'Back to previous …"
      ]
     },
     "metadata": {},
     "output_type": "display_data"
    }
   ],
   "source": [
    "%matplotlib widget\n",
    "classify = MNISTClassify().float().to(device)\n",
    "learning_rate = 0.01\n",
    "optimizer = torch.optim.SGD(classify.parameters(), lr = learning_rate)\n",
    "#optimizer = torch.optim.Adam(classify.parameters())\n",
    "#loss = nn.CrossEntropyLoss\n",
    "dev_time = 0.0\n",
    "plot_data = defaultdict(lambda : [])\n",
    "\n",
    "start = time.time()\n",
    "for epoch in range(5):\n",
    "    print((\"Epoch {} starting\".format(epoch+1)))\n",
    "    random.shuffle(training)\n",
    "    # train model:\n",
    "    recent_errors = []\n",
    "    classify.train(True)\n",
    "    for cls, img in training:\n",
    "        optimizer.zero_grad()\n",
    "        # Bild als Eingabe aufbereiten\n",
    "        x = torch.tensor(img).float().to(device)\n",
    "        # Outputaktivierung berechnen\n",
    "        output = classify(x)\n",
    "        # \"idealen\" Output (überall 0, nur gewählte Klasse ist 1)\n",
    "        target = torch.zeros(10).long().to(device)\n",
    "        target[cls] = 1.0\n",
    "        # Kostenfunktion berechnen\n",
    "        loss = torch.sum((output - target) ** 2)\n",
    "        #loss  = nn.functional.nll_loss(output, torch.tensor(cls).long().to(device))\n",
    "        plot_data[\"error\"].append(loss.item())\n",
    "        recent_errors.append(loss.item())\n",
    "        if len(recent_errors) > 100:\n",
    "            recent_errors = recent_errors[-100:-1] # keep only the last part\n",
    "        plot_data[\"recent avg. error\"].append(sum(recent_errors) / len(recent_errors))\n",
    "        # Kosten den einzelnen Parametern zuordnen\n",
    "        loss.backward()\n",
    "        # Parameter entsprechend anpassen\n",
    "        optimizer.step()\n",
    "    classify.train(False)\n",
    "    \n",
    "    # test performance of classifier:\n",
    "    confusion = [[0 for _ in range(10)] for _ in range(10)]\n",
    "    correct = 0\n",
    "    dev_start = time.time()\n",
    "    for cls, img in testing:\n",
    "        x = torch.tensor(img).float().to(device)\n",
    "        output = classify(x)\n",
    "        prediction = int(torch.topk(output, 1)[1].item())\n",
    "        if cls == prediction:\n",
    "            correct += 1\n",
    "        confusion[prediction][cls] += 1\n",
    "    dev_end = time.time()\n",
    "    acc = float(correct) / len(testing)\n",
    "    dev_time += dev_end - dev_start\n",
    "    print((\"Held out accuracy {} ({} instances/sec)\".format(\n",
    "        acc, len(testing) / (dev_end - dev_start))))\n",
    "    print('   ' + ''.join(('T'+str(x)).ljust(6) for x in range(10)))\n",
    "    for p, row in enumerate(confusion):\n",
    "        s = 'P' + str(p) + ' '\n",
    "        s += ''.join(str(col).ljust(6) for col in row)\n",
    "        print(s)\n",
    "\n",
    "    end = time.time()\n",
    "    print((\"instances per sec: {}\".format(\n",
    "                ((epoch+1) * len(training)) / (end - start - dev_time))))\n",
    "\n",
    "plot(plot_data)"
   ]
  },
  {
   "cell_type": "code",
   "execution_count": 19,
   "id": "1c96d8c5",
   "metadata": {},
   "outputs": [],
   "source": [
    "# This cell provides an alternative to the above implementation. It should do precisely the same but defers the actual implementation to \n",
    "# sub-modules (nn.Linear).\n",
    "\n",
    "class MNISTClassify(nn.Module):\n",
    "    \"\"\"the same but using the built-in modules for densely connected feed-forward layers\"\"\"\n",
    "    def __init__(self):\n",
    "        super(MNISTClassify, self).__init__()\n",
    "        input_size = 28 * 28\n",
    "        self.l1 = nn.Linear(input_size, HIDDEN_DIM1)\n",
    "        self.l2 = nn.Linear(HIDDEN_DIM1, HIDDEN_DIM2)\n",
    "        self.l3 = nn.Linear(HIDDEN_DIM2, 10)\n",
    "\n",
    "    def forward(self, x):\n",
    "        return nn.functional.log_softmax(self.l3(nn.functional.sigmoid(self.l2(nn.functional.sigmoid(self.l1(x))))), dim=0)\n"
   ]
  },
  {
   "cell_type": "code",
   "execution_count": 12,
   "id": "93016f8a-9f13-4ce2-a31f-ea6ec9b1000f",
   "metadata": {},
   "outputs": [],
   "source": [
    "import torch.nn.functional as F\n",
    "class MNISTClassify(nn.Module):\n",
    "    \"\"\"works much better with CNNs.\n",
    "    shamefully stolen/borrowed from https://github.com/mbjoseph/pytorch-mnist/blob/master/cnn-mnist.ipynb\n",
    "    \"\"\"\n",
    "    def __init__(self):\n",
    "        super(MNISTClassify, self).__init__()\n",
    "        self.conv1 = nn.Conv2d(1, 4, kernel_size=5)\n",
    "        self.fc2 = nn.Linear(256, 10)\n",
    "\n",
    "    def forward(self, x, isTrain=False):\n",
    "        x = x.reshape((1,1,28,28))\n",
    "        x = F.relu(F.max_pool2d(self.conv1(x), 3))\n",
    "        x = x.view(-1, self.num_flat_features(x))\n",
    "        x = F.log_softmax(self.fc2(x), dim=-1)\n",
    "        return x.view((10))\n",
    "    \n",
    "    def num_flat_features(self, x):\n",
    "        size = x.size()[1:] # all dimensions except the batch dimension\n",
    "        num_features = 1\n",
    "        for s in size:\n",
    "            num_features *= s\n",
    "        return num_features"
   ]
  },
  {
   "cell_type": "code",
   "execution_count": 14,
   "id": "d96d0bd6-8c0b-4646-880c-db1016a6ad44",
   "metadata": {},
   "outputs": [],
   "source": [
    "import torch.nn.functional as F\n",
    "class MNISTClassify(nn.Module):\n",
    "    \"\"\"works much better with CNNs.\n",
    "    shamefully stolen/borrowed from https://github.com/mbjoseph/pytorch-mnist/blob/master/cnn-mnist.ipynb\n",
    "    \"\"\"\n",
    "    def __init__(self):\n",
    "        super(MNISTClassify, self).__init__()\n",
    "        self.conv1 = nn.Conv2d(1, 10, kernel_size=5)\n",
    "        self.conv2 = nn.Conv2d(10, 20, kernel_size=5)\n",
    "        self.conv2_drop = nn.Dropout2d()\n",
    "        self.fc1 = nn.Linear(320, 120)\n",
    "        self.fc1_drop = nn.Dropout()\n",
    "        self.fc2 = nn.Linear(120, 10)\n",
    "\n",
    "    def forward(self, x, isTrain=False):\n",
    "        x = x.reshape((1,1,28,28))\n",
    "        x = F.relu(F.max_pool2d(self.conv1(x), 2))\n",
    "        x = F.relu(F.max_pool2d(self.conv2_drop(self.conv2(x)), 2))\n",
    "        x = x.view(-1, self.num_flat_features(x))\n",
    "        x = F.relu(self.fc1_drop(self.fc1(x)))\n",
    "        x = F.log_softmax(self.fc2(x), dim=-1)\n",
    "        return x.view((10))\n",
    "    \n",
    "    def num_flat_features(self, x):\n",
    "        size = x.size()[1:] # all dimensions except the batch dimension\n",
    "        num_features = 1\n",
    "        for s in size:\n",
    "            num_features *= s\n",
    "        return num_features"
   ]
  },
  {
   "cell_type": "code",
   "execution_count": null,
   "id": "3f4ff34a-0a59-49cd-bd62-8284d817ce6b",
   "metadata": {},
   "outputs": [],
   "source": []
  }
 ],
 "metadata": {
  "kernelspec": {
   "display_name": "Python 3 (ipykernel)",
   "language": "python",
   "name": "python3"
  },
  "language_info": {
   "codemirror_mode": {
    "name": "ipython",
    "version": 3
   },
   "file_extension": ".py",
   "mimetype": "text/x-python",
   "name": "python",
   "nbconvert_exporter": "python",
   "pygments_lexer": "ipython3",
   "version": "3.10.12"
  }
 },
 "nbformat": 4,
 "nbformat_minor": 5
}
