{
 "cells": [
  {
   "cell_type": "markdown",
   "id": "8f71c223",
   "metadata": {
    "editable": true,
    "slideshow": {
     "slide_type": ""
    },
    "tags": []
   },
   "source": [
    "# Simplistic attempts at an MNIST classifier: The Hello World of neural networks.\n",
    "\n",
    "The code here roughly reproduces what's done in 3Blue1Brown's introductory videos on neural networks. \n",
    "In case you have never seen those videos: you absolutely must! They are awesome! They can be found at: https://www.3blue1brown.com/topics/neural-networks \n",
    "\n",
    "Classifying digits is the \"Hello World\" of neural networks – a moderately difficult task that can be solved reasonably well even with a simple neural network. It's also possible to train on standard computers without having to wait forever."
   ]
  },
  {
   "cell_type": "code",
   "execution_count": 1,
   "id": "5f37d7c5",
   "metadata": {
    "editable": true,
    "slideshow": {
     "slide_type": ""
    },
    "tags": []
   },
   "outputs": [],
   "source": [
    "import time\n",
    "import random\n",
    "import os\n",
    "import struct\n",
    "import numpy as np\n",
    "import torch\n",
    "import torch.nn as nn\n",
    "import ipywidgets as widgets\n",
    "import PIL.Image"
   ]
  },
  {
   "cell_type": "code",
   "execution_count": 2,
   "id": "0397801a-1a87-4a47-bc12-ee23e9879241",
   "metadata": {},
   "outputs": [],
   "source": [
    "# try this if you want to train your model on the GPU.\n",
    "device = torch.device(\"cuda:0\" if torch.cuda.is_available() else \"cpu\")"
   ]
  },
  {
   "cell_type": "code",
   "execution_count": 3,
   "id": "6928e5c9",
   "metadata": {
    "editable": true,
    "slideshow": {
     "slide_type": ""
    },
    "tags": []
   },
   "outputs": [],
   "source": [
    "%%capture\n",
    "# now, the following is cool: it lets us import functions that we define in other notebooks! \n",
    "%run PyTorch.ipynb import plot\n",
    "# (The drawback: we hardly ever write notebooks in a way that makes for good modules to import from; \n",
    "# specifically: the whole PyTorch notebook is run above, not only the cell that defines the plot function. \n",
    "# Calling %run can easily become slow.)\n",
    "# we use capture above to avoid seeing all the output that results from executing the notebook. "
   ]
  },
  {
   "cell_type": "code",
   "execution_count": 4,
   "id": "b3f4dbbd",
   "metadata": {},
   "outputs": [],
   "source": [
    "# this code reads a database of digits (the database is already included in the repository)\n",
    "# please don't look too closely at this code, I'm not proud of it.\n",
    "# minimally adapted from https://gist.github.com/akesling/5358964\n",
    "def read_mnist(dataset, path=\"data/MNIST/raw/\"):\n",
    "    if dataset == \"training\":\n",
    "        fname_img = os.path.join(path, \"train-images-idx3-ubyte\")\n",
    "        fname_lbl = os.path.join(path, \"train-labels-idx1-ubyte\")\n",
    "    elif dataset == \"testing\":\n",
    "        fname_img = os.path.join(path, \"t10k-images-idx3-ubyte\")\n",
    "        fname_lbl = os.path.join(path, \"t10k-labels-idx1-ubyte\")\n",
    "    else:\n",
    "        raise ValueError(\"dataset must be 'testing' or 'training'\")\n",
    "\n",
    "    # Load everything in some numpy arrays\n",
    "    with open(fname_lbl, \"rb\") as flbl:\n",
    "        magic, num = struct.unpack(\">II\", flbl.read(8))\n",
    "        labels = np.fromfile(flbl, dtype=np.int8)\n",
    "\n",
    "    with open(fname_img, \"rb\") as fimg:\n",
    "        magic, num, rows, cols = struct.unpack(\">IIII\", fimg.read(16))\n",
    "        images = np.multiply(\n",
    "            np.fromfile(fimg, dtype=np.uint8).reshape(len(labels), rows*cols),\n",
    "            1.0 / 255.0)\n",
    "\n",
    "    get_instance = lambda idx: (labels[idx], images[idx])\n",
    "\n",
    "    # Create an iterator which returns each image in turn\n",
    "    for i in range(len(labels)):\n",
    "        yield get_instance(i)\n",
    "        \n",
    "training = [(lbl, img) for (lbl, img) in read_mnist(\"training\")]\n",
    "testing = [(lbl, img) for (lbl, img) in read_mnist(\"testing\")]"
   ]
  },
  {
   "cell_type": "code",
   "execution_count": 5,
   "id": "15265891",
   "metadata": {},
   "outputs": [
    {
     "data": {
      "text/plain": [
       "5"
      ]
     },
     "metadata": {},
     "output_type": "display_data"
    },
    {
     "data": {
      "application/vnd.jupyter.widget-view+json": {
       "model_id": "418333d8efce4916a7ea110595ac9721",
       "version_major": 2,
       "version_minor": 0
      },
      "text/plain": [
       "Image(value=b'\\x89PNG\\r\\n\\x1a\\n\\x00\\x00\\x00\\rIHDR\\x00\\x00\\x00\\x1c\\x00\\x00\\x00\\x1c\\x08\\x00\\x00\\x00\\x00Wf\\x80H\\x…"
      ]
     },
     "metadata": {},
     "output_type": "display_data"
    },
    {
     "data": {
      "text/plain": [
       "0"
      ]
     },
     "metadata": {},
     "output_type": "display_data"
    },
    {
     "data": {
      "application/vnd.jupyter.widget-view+json": {
       "model_id": "2d3f657698d448449d514e6603e8a988",
       "version_major": 2,
       "version_minor": 0
      },
      "text/plain": [
       "Image(value=b'\\x89PNG\\r\\n\\x1a\\n\\x00\\x00\\x00\\rIHDR\\x00\\x00\\x00\\x1c\\x00\\x00\\x00\\x1c\\x08\\x00\\x00\\x00\\x00Wf\\x80H\\x…"
      ]
     },
     "metadata": {},
     "output_type": "display_data"
    },
    {
     "data": {
      "text/plain": [
       "4"
      ]
     },
     "metadata": {},
     "output_type": "display_data"
    },
    {
     "data": {
      "application/vnd.jupyter.widget-view+json": {
       "model_id": "389b432e6ae1473db019182df56c15c6",
       "version_major": 2,
       "version_minor": 0
      },
      "text/plain": [
       "Image(value=b'\\x89PNG\\r\\n\\x1a\\n\\x00\\x00\\x00\\rIHDR\\x00\\x00\\x00\\x1c\\x00\\x00\\x00\\x1c\\x08\\x00\\x00\\x00\\x00Wf\\x80H\\x…"
      ]
     },
     "metadata": {},
     "output_type": "display_data"
    },
    {
     "data": {
      "text/plain": [
       "1"
      ]
     },
     "metadata": {},
     "output_type": "display_data"
    },
    {
     "data": {
      "application/vnd.jupyter.widget-view+json": {
       "model_id": "eac055f69b0c4b94a39483c342204a40",
       "version_major": 2,
       "version_minor": 0
      },
      "text/plain": [
       "Image(value=b'\\x89PNG\\r\\n\\x1a\\n\\x00\\x00\\x00\\rIHDR\\x00\\x00\\x00\\x1c\\x00\\x00\\x00\\x1c\\x08\\x00\\x00\\x00\\x00Wf\\x80H\\x…"
      ]
     },
     "metadata": {},
     "output_type": "display_data"
    },
    {
     "data": {
      "text/plain": [
       "9"
      ]
     },
     "metadata": {},
     "output_type": "display_data"
    },
    {
     "data": {
      "application/vnd.jupyter.widget-view+json": {
       "model_id": "e640c053fff24bc2b8132da45ef114a7",
       "version_major": 2,
       "version_minor": 0
      },
      "text/plain": [
       "Image(value=b'\\x89PNG\\r\\n\\x1a\\n\\x00\\x00\\x00\\rIHDR\\x00\\x00\\x00\\x1c\\x00\\x00\\x00\\x1c\\x08\\x00\\x00\\x00\\x00Wf\\x80H\\x…"
      ]
     },
     "metadata": {},
     "output_type": "display_data"
    },
    {
     "data": {
      "text/plain": [
       "2"
      ]
     },
     "metadata": {},
     "output_type": "display_data"
    },
    {
     "data": {
      "application/vnd.jupyter.widget-view+json": {
       "model_id": "412c82411af041c19d7b90c1a7e12be7",
       "version_major": 2,
       "version_minor": 0
      },
      "text/plain": [
       "Image(value=b'\\x89PNG\\r\\n\\x1a\\n\\x00\\x00\\x00\\rIHDR\\x00\\x00\\x00\\x1c\\x00\\x00\\x00\\x1c\\x08\\x00\\x00\\x00\\x00Wf\\x80H\\x…"
      ]
     },
     "metadata": {},
     "output_type": "display_data"
    },
    {
     "data": {
      "text/plain": [
       "1"
      ]
     },
     "metadata": {},
     "output_type": "display_data"
    },
    {
     "data": {
      "application/vnd.jupyter.widget-view+json": {
       "model_id": "7f5a8ca019974545b6da0a5d31e5b92c",
       "version_major": 2,
       "version_minor": 0
      },
      "text/plain": [
       "Image(value=b'\\x89PNG\\r\\n\\x1a\\n\\x00\\x00\\x00\\rIHDR\\x00\\x00\\x00\\x1c\\x00\\x00\\x00\\x1c\\x08\\x00\\x00\\x00\\x00Wf\\x80H\\x…"
      ]
     },
     "metadata": {},
     "output_type": "display_data"
    },
    {
     "data": {
      "text/plain": [
       "3"
      ]
     },
     "metadata": {},
     "output_type": "display_data"
    },
    {
     "data": {
      "application/vnd.jupyter.widget-view+json": {
       "model_id": "2e7ff7e1a2ee494a83c7916158add01d",
       "version_major": 2,
       "version_minor": 0
      },
      "text/plain": [
       "Image(value=b'\\x89PNG\\r\\n\\x1a\\n\\x00\\x00\\x00\\rIHDR\\x00\\x00\\x00\\x1c\\x00\\x00\\x00\\x1c\\x08\\x00\\x00\\x00\\x00Wf\\x80H\\x…"
      ]
     },
     "metadata": {},
     "output_type": "display_data"
    },
    {
     "data": {
      "text/plain": [
       "1"
      ]
     },
     "metadata": {},
     "output_type": "display_data"
    },
    {
     "data": {
      "application/vnd.jupyter.widget-view+json": {
       "model_id": "7560eddf39cd4a7fb73b9ffb278bb3e7",
       "version_major": 2,
       "version_minor": 0
      },
      "text/plain": [
       "Image(value=b'\\x89PNG\\r\\n\\x1a\\n\\x00\\x00\\x00\\rIHDR\\x00\\x00\\x00\\x1c\\x00\\x00\\x00\\x1c\\x08\\x00\\x00\\x00\\x00Wf\\x80H\\x…"
      ]
     },
     "metadata": {},
     "output_type": "display_data"
    },
    {
     "data": {
      "text/plain": [
       "4"
      ]
     },
     "metadata": {},
     "output_type": "display_data"
    },
    {
     "data": {
      "application/vnd.jupyter.widget-view+json": {
       "model_id": "f3518407a68c4e41b853c1698c9b0b3a",
       "version_major": 2,
       "version_minor": 0
      },
      "text/plain": [
       "Image(value=b'\\x89PNG\\r\\n\\x1a\\n\\x00\\x00\\x00\\rIHDR\\x00\\x00\\x00\\x1c\\x00\\x00\\x00\\x1c\\x08\\x00\\x00\\x00\\x00Wf\\x80H\\x…"
      ]
     },
     "metadata": {},
     "output_type": "display_data"
    }
   ],
   "source": [
    "# print some examples (pairs of target number and image)\n",
    "import io\n",
    "for i in range(10):\n",
    "    buffer = io.BytesIO()\n",
    "    PIL.Image.fromarray((256*training[i][1]).reshape(28, 28)).convert('L').save(buffer, format=\"PNG\")\n",
    "    display(training[i][0], widgets.Image(value=buffer.getvalue(),width=28,height=28))"
   ]
  },
  {
   "cell_type": "markdown",
   "id": "131a6111-6c96-4811-9056-193e13b283eb",
   "metadata": {},
   "source": [
    "# A simple neural network for MNIST\n",
    "In MNIST we have grayscale images of digits, 28x28 pixels in size (as shown above). \n",
    "We will define a network with two inner (hidden) layers, each with 16 neurons, and an output layer with 10 neurons, one per digit.\n",
    "Let's go!"
   ]
  },
  {
   "cell_type": "code",
   "execution_count": 6,
   "id": "5a1def90",
   "metadata": {},
   "outputs": [],
   "source": [
    "HIDDEN_DIM1 = 16\n",
    "HIDDEN_DIM2 = 16"
   ]
  },
  {
   "cell_type": "code",
   "execution_count": 7,
   "id": "45dda405",
   "metadata": {},
   "outputs": [],
   "source": [
    "class MNISTClassify(nn.Module):\n",
    "    def __init__(self):\n",
    "        super(MNISTClassify, self).__init__()\n",
    "        input_size = 28 * 28\n",
    "        self.W1 = nn.Parameter(nn.init.xavier_uniform_(torch.empty(input_size, HIDDEN_DIM1)))\n",
    "        self.b1 = nn.Parameter(nn.init.xavier_uniform_(torch.empty(1, HIDDEN_DIM1)))\n",
    "        self.W2 = nn.Parameter(nn.init.xavier_uniform_(torch.empty(HIDDEN_DIM1, HIDDEN_DIM2)))\n",
    "        self.b2 = nn.Parameter(nn.init.xavier_uniform_(torch.empty(1, HIDDEN_DIM2)))\n",
    "        self.W3 = nn.Parameter(nn.init.xavier_uniform_(torch.empty(HIDDEN_DIM2, 10)))\n",
    "        self.b3 = nn.Parameter(nn.init.xavier_uniform_(torch.empty(1, 10)))\n",
    "        \n",
    "    def forward(self, x):\n",
    "        # erste innere Schicht:\n",
    "        h1 = nn.functional.sigmoid(x @ self.W1 + self.b1)\n",
    "        # zweite innere Schicht:\n",
    "        h2 = nn.functional.sigmoid(h1 @ self.W2 + self.b2)\n",
    "        # Ergebnisschicht:\n",
    "        activation = nn.functional.log_softmax(h2 @ self.W3 + self.b3, dim=1)\n",
    "        return activation.view(10)"
   ]
  },
  {
   "cell_type": "markdown",
   "id": "763486b1-cda2-4b6c-9660-cb704db813d5",
   "metadata": {},
   "source": [
    "What's new here? \n",
    "\n",
    "We're not computing the outputs of individual neurons! Instead, we compute the weighted sum for all output neurons from all weighted input neurons in one matrix multiplication (which uses the ```@``` operator). We then add a bias *vector* (instead of just one bias value). The agreement is that sigmoid called on a vector yields the vector of the sigmoid operation performed on each individual value in the vector.\n",
    "\n",
    "Matrix operations really condense the computations needed for a full layer to <tt>a<sub>out</sub> = &sigma;(a<sub>in</sub> &middot; W + b)</tt>. Note again, that operator overloading makes this concise form possible. \n",
    "\n",
    "What's important to note is that we need to make sure that weight matrices (and bias vectors) are of the right sizes, check the sizes in the constructor.\n",
    "\n",
    "Also, note that we initialize the parameters in a certain way – one that was vital discovery in making deep learning actually work in practice."
   ]
  },
  {
   "cell_type": "markdown",
   "id": "ddc25900-1675-43e1-b9b4-d5a988b99b34",
   "metadata": {},
   "source": [
    "# The training loop.\n",
    "The training is actually quite similar to what we did in the previous exercise. \n",
    "we over and over repeat the following:\n",
    "* have the network produce some output (**new:** there's now input involved!)\n",
    "* compute the desired output (**new:** this also comes from data!)\n",
    "* compute the model loss as the squared error between target and estimate\n",
    "* compute the gradients of the error wrt. all parameters\n",
    "* adjust errors a little bit in the right direction.\n",
    "\n",
    "We perform this repeatedly and every time with a different image. Once we're through with every image, we repeat, for a total of 5 repetitions (each repetition is called an *epoch*). \n",
    "After every epoch, we **test** the model on some validation data. In that way, we have a better chance at assessing the real-world performance of the model on new data, as compared to data that has been seen in training."
   ]
  },
  {
   "cell_type": "code",
   "execution_count": 8,
   "id": "0f16f533-cdef-4a01-a7d4-23a0365ff899",
   "metadata": {
    "editable": true,
    "slideshow": {
     "slide_type": ""
    },
    "tags": []
   },
   "outputs": [
    {
     "name": "stdout",
     "output_type": "stream",
     "text": [
      "Epoch 1 starting\n",
      "Held out accuracy 0.9051 (7646.108196074007 instances/sec)\n",
      "   T0    T1    T2    T3    T4    T5    T6    T7    T8    T9    \n",
      "P0 943   0     7     2     1     6     7     3     7     5     \n",
      "P1 0     1098  9     4     3     6     3     24    10    8     \n",
      "P2 4     8     896   19    3     10    2     25    11    3     \n",
      "P3 2     4     20    899   0     43    3     5     24    11    \n",
      "P4 1     2     18    1     903   12    8     12    15    44    \n",
      "P5 6     2     5     26    0     739   21    1     29    7     \n",
      "P6 16    6     15    6     18    22    914   3     15    2     \n",
      "P7 1     0     18    14    1     16    0     924   11    15    \n",
      "P8 7     14    35    27    4     26    0     1     835   14    \n",
      "P9 0     1     9     12    49    12    0     30    17    900   \n",
      "instances per sec: 1231.6554861965649\n",
      "Epoch 2 starting\n",
      "Held out accuracy 0.9087 (7667.946758982493 instances/sec)\n",
      "   T0    T1    T2    T3    T4    T5    T6    T7    T8    T9    \n",
      "P0 956   0     11    5     1     10    17    5     8     8     \n",
      "P1 0     1089  6     2     1     5     2     23    3     7     \n",
      "P2 0     2     884   12    2     1     1     19    2     0     \n",
      "P3 2     3     19    891   1     29    1     5     10    7     \n",
      "P4 0     1     16    1     932   10    18    12    8     65    \n",
      "P5 4     0     5     28    1     741   19    0     13    10    \n",
      "P6 7     5     10    3     10    15    880   1     6     1     \n",
      "P7 1     2     18    15    1     14    0     944   7     24    \n",
      "P8 10    32    62    44    12    61    20    3     913   30    \n",
      "P9 0     1     1     9     21    6     0     16    4     857   \n",
      "instances per sec: 1416.7382096505735\n",
      "Epoch 3 starting\n",
      "Held out accuracy 0.9154 (7671.28599221185 instances/sec)\n",
      "   T0    T1    T2    T3    T4    T5    T6    T7    T8    T9    \n",
      "P0 956   0     5     5     1     8     12    3     7     6     \n",
      "P1 0     1094  2     1     1     3     2     14    2     5     \n",
      "P2 1     3     917   19    3     2     2     22    4     2     \n",
      "P3 2     3     10    862   1     23    1     5     8     5     \n",
      "P4 0     1     8     0     872   4     6     4     5     17    \n",
      "P5 4     1     8     44    1     780   22    1     19    9     \n",
      "P6 7     5     12    2     15    14    901   3     8     1     \n",
      "P7 1     2     17    15    2     11    1     950   8     16    \n",
      "P8 9     25    48    46    15    38    10    1     898   24    \n",
      "P9 0     1     5     16    71    9     1     25    15    924   \n",
      "instances per sec: 1491.6530327319347\n",
      "Epoch 4 starting\n",
      "Held out accuracy 0.9173 (7643.27830231658 instances/sec)\n",
      "   T0    T1    T2    T3    T4    T5    T6    T7    T8    T9    \n",
      "P0 950   0     3     4     1     7     10    3     7     5     \n",
      "P1 0     1103  4     1     1     1     2     17    2     7     \n",
      "P2 1     4     925   20    3     1     2     24    2     1     \n",
      "P3 2     2     9     853   1     15    1     4     8     5     \n",
      "P4 0     1     10    0     905   4     9     9     7     31    \n",
      "P5 9     2     15    59    2     808   31    3     34    13    \n",
      "P6 8     5     12    3     17    13    893   2     9     3     \n",
      "P7 1     1     11    12    1     6     0     934   5     7     \n",
      "P8 9     16    38    40    6     30    10    1     885   20    \n",
      "P9 0     1     5     18    45    7     0     31    15    917   \n",
      "instances per sec: 1440.179293790131\n",
      "Epoch 5 starting\n",
      "Held out accuracy 0.9244 (7668.97724943561 instances/sec)\n",
      "   T0    T1    T2    T3    T4    T5    T6    T7    T8    T9    \n",
      "P0 956   0     5     4     1     8     12    2     6     6     \n",
      "P1 0     1118  7     2     2     6     3     23    10    8     \n",
      "P2 1     3     944   26    3     4     6     26    4     2     \n",
      "P3 2     2     10    889   1     24    1     4     13    9     \n",
      "P4 0     0     8     0     907   4     7     7     6     28    \n",
      "P5 4     1     9     36    1     791   19    1     25    11    \n",
      "P6 8     5     14    3     18    14    905   3     12    1     \n",
      "P7 1     1     11    12    2     7     0     936   8     7     \n",
      "P8 7     4     19    21    3     27    5     0     874   13    \n",
      "P9 1     1     5     17    44    7     0     26    16    924   \n",
      "instances per sec: 1480.1726905311157\n"
     ]
    },
    {
     "data": {
      "application/vnd.jupyter.widget-view+json": {
       "model_id": "fecc0a73785f4cbf932ad028e38220eb",
       "version_major": 2,
       "version_minor": 0
      },
      "image/png": "[encoded data removed]",
      "text/html": [
       "\n",
       "            <div style=\"display: inline-block;\">\n",
       "                <div class=\"jupyter-widgets widget-label\" style=\"text-align: center;\">\n",
       "                    evolution over training iterations\n",
       "                </div>\n",
       "                <img src='data:image/png;base64,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' width=640.0/>\n",
       "            </div>\n",
       "        "
      ],
      "text/plain": [
       "Canvas(toolbar=Toolbar(toolitems=[('Home', 'Reset original view', 'home', 'home'), ('Back', 'Back to previous …"
      ]
     },
     "metadata": {},
     "output_type": "display_data"
    }
   ],
   "source": [
    "%matplotlib widget\n",
    "classify = MNISTClassify().float().to(device)\n",
    "learning_rate = 0.01\n",
    "optimizer = torch.optim.SGD(classify.parameters(), lr = learning_rate)\n",
    "#optimizer = torch.optim.Adam(classify.parameters())\n",
    "#loss = nn.CrossEntropyLoss\n",
    "dev_time = 0.0\n",
    "plot_data = defaultdict(lambda : [])\n",
    "\n",
    "start = time.time()\n",
    "for epoch in range(5):\n",
    "    print((\"Epoch {} starting\".format(epoch+1)))\n",
    "    random.shuffle(training)\n",
    "    # train model:\n",
    "    recent_errors = []\n",
    "    classify.train(True)\n",
    "    for cls, img in training:\n",
    "        optimizer.zero_grad()\n",
    "        # Bild als Eingabe aufbereiten\n",
    "        x = torch.tensor(img).float().to(device)\n",
    "        # Outputaktivierung berechnen\n",
    "        output = classify(x)\n",
    "        # \"idealen\" Output (überall 0, nur gewählte Klasse ist 1)\n",
    "        target = torch.zeros(10).long().to(device)\n",
    "        target[cls] = 1.0\n",
    "        # Kostenfunktion berechnen\n",
    "        loss = torch.sum((output - target) ** 2)\n",
    "        #loss  = nn.functional.nll_loss(output, torch.tensor(cls).long().to(device))\n",
    "        plot_data[\"error\"].append(loss.item())\n",
    "        recent_errors.append(loss.item())\n",
    "        if len(recent_errors) > 100:\n",
    "            recent_errors = recent_errors[-100:-1] # keep only the last part\n",
    "        plot_data[\"recent avg. error\"].append(sum(recent_errors) / len(recent_errors))\n",
    "        # Kosten den einzelnen Parametern zuordnen\n",
    "        loss.backward()\n",
    "        # Parameter entsprechend anpassen\n",
    "        optimizer.step()\n",
    "    classify.train(False)\n",
    "    \n",
    "    # test performance of classifier:\n",
    "    confusion = [[0 for _ in range(10)] for _ in range(10)]\n",
    "    correct = 0\n",
    "    dev_start = time.time()\n",
    "    for cls, img in testing:\n",
    "        x = torch.tensor(img).float().to(device)\n",
    "        output = classify(x)\n",
    "        prediction = int(torch.topk(output, 1)[1].item())\n",
    "        if cls == prediction:\n",
    "            correct += 1\n",
    "        confusion[prediction][cls] += 1\n",
    "    dev_end = time.time()\n",
    "    acc = float(correct) / len(testing)\n",
    "    dev_time += dev_end - dev_start\n",
    "    print((\"Held out accuracy {} ({} instances/sec)\".format(\n",
    "        acc, len(testing) / (dev_end - dev_start))))\n",
    "    print('   ' + ''.join(('T'+str(x)).ljust(6) for x in range(10)))\n",
    "    for p, row in enumerate(confusion):\n",
    "        s = 'P' + str(p) + ' '\n",
    "        s += ''.join(str(col).ljust(6) for col in row)\n",
    "        print(s)\n",
    "\n",
    "    end = time.time()\n",
    "    print((\"instances per sec: {}\".format(\n",
    "                ((epoch+1) * len(training)) / (end - start - dev_time))))\n",
    "\n",
    "plot(plot_data)"
   ]
  },
  {
   "cell_type": "code",
   "execution_count": 19,
   "id": "1c96d8c5",
   "metadata": {},
   "outputs": [],
   "source": [
    "# This cell provides an alternative to the above implementation. It should do precisely the same but defers the actual implementation to \n",
    "# sub-modules (nn.Linear).\n",
    "\n",
    "class MNISTClassify(nn.Module):\n",
    "    \"\"\"the same but using the built-in modules for densely connected feed-forward layers\"\"\"\n",
    "    def __init__(self):\n",
    "        super(MNISTClassify, self).__init__()\n",
    "        input_size = 28 * 28\n",
    "        self.l1 = nn.Linear(input_size, HIDDEN_DIM1)\n",
    "        self.l2 = nn.Linear(HIDDEN_DIM1, HIDDEN_DIM2)\n",
    "        self.l3 = nn.Linear(HIDDEN_DIM2, 10)\n",
    "\n",
    "    def forward(self, x):\n",
    "        return nn.functional.log_softmax(self.l3(nn.functional.sigmoid(self.l2(nn.functional.sigmoid(self.l1(x))))), dim=0)\n"
   ]
  },
  {
   "cell_type": "code",
   "execution_count": 12,
   "id": "93016f8a-9f13-4ce2-a31f-ea6ec9b1000f",
   "metadata": {},
   "outputs": [],
   "source": [
    "import torch.nn.functional as F\n",
    "class MNISTClassify(nn.Module):\n",
    "    \"\"\"works much better with CNNs.\n",
    "    shamefully stolen/borrowed from https://github.com/mbjoseph/pytorch-mnist/blob/master/cnn-mnist.ipynb\n",
    "    \"\"\"\n",
    "    def __init__(self):\n",
    "        super(MNISTClassify, self).__init__()\n",
    "        self.conv1 = nn.Conv2d(1, 4, kernel_size=5)\n",
    "        self.fc2 = nn.Linear(256, 10)\n",
    "\n",
    "    def forward(self, x, isTrain=False):\n",
    "        x = x.reshape((1,1,28,28))\n",
    "        x = F.relu(F.max_pool2d(self.conv1(x), 3))\n",
    "        x = x.view(-1, self.num_flat_features(x))\n",
    "        x = F.log_softmax(self.fc2(x), dim=-1)\n",
    "        return x.view((10))\n",
    "    \n",
    "    def num_flat_features(self, x):\n",
    "        size = x.size()[1:] # all dimensions except the batch dimension\n",
    "        num_features = 1\n",
    "        for s in size:\n",
    "            num_features *= s\n",
    "        return num_features"
   ]
  },
  {
   "cell_type": "code",
   "execution_count": 14,
   "id": "d96d0bd6-8c0b-4646-880c-db1016a6ad44",
   "metadata": {},
   "outputs": [],
   "source": [
    "import torch.nn.functional as F\n",
    "class MNISTClassify(nn.Module):\n",
    "    \"\"\"works much better with CNNs.\n",
    "    shamefully stolen/borrowed from https://github.com/mbjoseph/pytorch-mnist/blob/master/cnn-mnist.ipynb\n",
    "    \"\"\"\n",
    "    def __init__(self):\n",
    "        super(MNISTClassify, self).__init__()\n",
    "        self.conv1 = nn.Conv2d(1, 10, kernel_size=5)\n",
    "        self.conv2 = nn.Conv2d(10, 20, kernel_size=5)\n",
    "        self.conv2_drop = nn.Dropout2d()\n",
    "        self.fc1 = nn.Linear(320, 120)\n",
    "        self.fc1_drop = nn.Dropout()\n",
    "        self.fc2 = nn.Linear(120, 10)\n",
    "\n",
    "    def forward(self, x, isTrain=False):\n",
    "        x = x.reshape((1,1,28,28))\n",
    "        x = F.relu(F.max_pool2d(self.conv1(x), 2))\n",
    "        x = F.relu(F.max_pool2d(self.conv2_drop(self.conv2(x)), 2))\n",
    "        x = x.view(-1, self.num_flat_features(x))\n",
    "        x = F.relu(self.fc1_drop(self.fc1(x)))\n",
    "        x = F.log_softmax(self.fc2(x), dim=-1)\n",
    "        return x.view((10))\n",
    "    \n",
    "    def num_flat_features(self, x):\n",
    "        size = x.size()[1:] # all dimensions except the batch dimension\n",
    "        num_features = 1\n",
    "        for s in size:\n",
    "            num_features *= s\n",
    "        return num_features"
   ]
  },
  {
   "cell_type": "code",
   "execution_count": null,
   "id": "3f4ff34a-0a59-49cd-bd62-8284d817ce6b",
   "metadata": {},
   "outputs": [],
   "source": []
  }
 ],
 "metadata": {
  "kernelspec": {
   "display_name": "Python 3 (ipykernel)",
   "language": "python",
   "name": "python3"
  },
  "language_info": {
   "codemirror_mode": {
    "name": "ipython",
    "version": 3
   },
   "file_extension": ".py",
   "mimetype": "text/x-python",
   "name": "python",
   "nbconvert_exporter": "python",
   "pygments_lexer": "ipython3",
   "version": "3.10.12"
  }
 },
 "nbformat": 4,
 "nbformat_minor": 5
}
