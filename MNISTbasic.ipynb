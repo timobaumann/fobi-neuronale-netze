{
 "cells": [
  {
   "cell_type": "markdown",
   "id": "8f71c223",
   "metadata": {
    "editable": true,
    "slideshow": {
     "slide_type": ""
    },
    "tags": []
   },
   "source": [
    "# Simplistic attempts at an MNIST classifier: The Hello World of neural networks.\n",
    "\n",
    "The code here roughly reproduces what's done in 3Blue1Brown's introductory videos on neural networks. \n",
    "In case you have never seen those videos: you absolutely must! They are awesome! They can be found at: https://www.3blue1brown.com/topics/neural-networks \n",
    "\n",
    "Classifying digits is the \"Hello World\" of neural networks – a moderately difficult task that can be solved reasonably well even with a simple neural network. It's also possible to train on standard computers without having to wait forever."
   ]
  },
  {
   "cell_type": "code",
   "execution_count": 1,
   "id": "5f37d7c5",
   "metadata": {
    "editable": true,
    "slideshow": {
     "slide_type": ""
    },
    "tags": []
   },
   "outputs": [],
   "source": [
    "import time\n",
    "import random\n",
    "import os\n",
    "import struct\n",
    "import numpy as np\n",
    "import torch\n",
    "import torch.nn as nn\n",
    "import ipywidgets as widgets\n",
    "import PIL.Image"
   ]
  },
  {
   "cell_type": "code",
   "execution_count": null,
   "id": "0397801a-1a87-4a47-bc12-ee23e9879241",
   "metadata": {},
   "outputs": [],
   "source": [
    "# try this if you want to train your model on the GPU.\n",
    "device = torch.device(\"cuda:0\" if torch.cuda.is_available() else \"cpu\")"
   ]
  },
  {
   "cell_type": "code",
   "execution_count": 2,
   "id": "6928e5c9",
   "metadata": {
    "editable": true,
    "slideshow": {
     "slide_type": ""
    },
    "tags": []
   },
   "outputs": [],
   "source": [
    "%%capture\n",
    "# now, the following is cool: it lets us import functions that we define in other notebooks! \n",
    "%run PyTorch.ipynb import plot\n",
    "# (The drawback: we hardly ever write notebooks in a way that makes for good modules to import from; \n",
    "# specifically: the whole PyTorch notebook is run above, not only the cell that defines the plot function. \n",
    "# Calling %run can easily become slow.)\n",
    "# we use capture above to avoid seeing all the output that results from executing the notebook. "
   ]
  },
  {
   "cell_type": "code",
   "execution_count": 3,
   "id": "b3f4dbbd",
   "metadata": {},
   "outputs": [],
   "source": [
    "# this code reads a database of digits (the database is already included in the repository)\n",
    "# please don't look too closely at this code, I'm not proud of it.\n",
    "# minimally adapted from https://gist.github.com/akesling/5358964\n",
    "def read_mnist(dataset, path=\"data/MNIST/raw/\"):\n",
    "    if dataset == \"training\":\n",
    "        fname_img = os.path.join(path, \"train-images-idx3-ubyte\")\n",
    "        fname_lbl = os.path.join(path, \"train-labels-idx1-ubyte\")\n",
    "    elif dataset == \"testing\":\n",
    "        fname_img = os.path.join(path, \"t10k-images-idx3-ubyte\")\n",
    "        fname_lbl = os.path.join(path, \"t10k-labels-idx1-ubyte\")\n",
    "    else:\n",
    "        raise ValueError(\"dataset must be 'testing' or 'training'\")\n",
    "\n",
    "    # Load everything in some numpy arrays\n",
    "    with open(fname_lbl, \"rb\") as flbl:\n",
    "        magic, num = struct.unpack(\">II\", flbl.read(8))\n",
    "        labels = np.fromfile(flbl, dtype=np.int8)\n",
    "\n",
    "    with open(fname_img, \"rb\") as fimg:\n",
    "        magic, num, rows, cols = struct.unpack(\">IIII\", fimg.read(16))\n",
    "        images = np.multiply(\n",
    "            np.fromfile(fimg, dtype=np.uint8).reshape(len(labels), rows*cols),\n",
    "            1.0 / 255.0)\n",
    "\n",
    "    get_instance = lambda idx: (labels[idx], images[idx])\n",
    "\n",
    "    # Create an iterator which returns each image in turn\n",
    "    for i in range(len(labels)):\n",
    "        yield get_instance(i)\n",
    "        \n",
    "training = [(lbl, img) for (lbl, img) in read_mnist(\"training\")]\n",
    "testing = [(lbl, img) for (lbl, img) in read_mnist(\"testing\")]"
   ]
  },
  {
   "cell_type": "code",
   "execution_count": 4,
   "id": "15265891",
   "metadata": {},
   "outputs": [
    {
     "data": {
      "text/plain": [
       "5"
      ]
     },
     "metadata": {},
     "output_type": "display_data"
    },
    {
     "data": {
      "application/vnd.jupyter.widget-view+json": {
       "model_id": "93dd19579b164921a767ec0d8117f12f",
       "version_major": 2,
       "version_minor": 0
      },
      "text/plain": [
       "Image(value=b'\\x89PNG\\r\\n\\x1a\\n\\x00\\x00\\x00\\rIHDR\\x00\\x00\\x00\\x1c\\x00\\x00\\x00\\x1c\\x08\\x00\\x00\\x00\\x00Wf\\x80H\\x…"
      ]
     },
     "metadata": {},
     "output_type": "display_data"
    },
    {
     "data": {
      "text/plain": [
       "0"
      ]
     },
     "metadata": {},
     "output_type": "display_data"
    },
    {
     "data": {
      "application/vnd.jupyter.widget-view+json": {
       "model_id": "09fbe640a266489584aa0ccbbaf13955",
       "version_major": 2,
       "version_minor": 0
      },
      "text/plain": [
       "Image(value=b'\\x89PNG\\r\\n\\x1a\\n\\x00\\x00\\x00\\rIHDR\\x00\\x00\\x00\\x1c\\x00\\x00\\x00\\x1c\\x08\\x00\\x00\\x00\\x00Wf\\x80H\\x…"
      ]
     },
     "metadata": {},
     "output_type": "display_data"
    },
    {
     "data": {
      "text/plain": [
       "4"
      ]
     },
     "metadata": {},
     "output_type": "display_data"
    },
    {
     "data": {
      "application/vnd.jupyter.widget-view+json": {
       "model_id": "b14128903ce443f9b1b3916827ed7084",
       "version_major": 2,
       "version_minor": 0
      },
      "text/plain": [
       "Image(value=b'\\x89PNG\\r\\n\\x1a\\n\\x00\\x00\\x00\\rIHDR\\x00\\x00\\x00\\x1c\\x00\\x00\\x00\\x1c\\x08\\x00\\x00\\x00\\x00Wf\\x80H\\x…"
      ]
     },
     "metadata": {},
     "output_type": "display_data"
    },
    {
     "data": {
      "text/plain": [
       "1"
      ]
     },
     "metadata": {},
     "output_type": "display_data"
    },
    {
     "data": {
      "application/vnd.jupyter.widget-view+json": {
       "model_id": "2a078c9cc0ae4478b6ed1a800975ae34",
       "version_major": 2,
       "version_minor": 0
      },
      "text/plain": [
       "Image(value=b'\\x89PNG\\r\\n\\x1a\\n\\x00\\x00\\x00\\rIHDR\\x00\\x00\\x00\\x1c\\x00\\x00\\x00\\x1c\\x08\\x00\\x00\\x00\\x00Wf\\x80H\\x…"
      ]
     },
     "metadata": {},
     "output_type": "display_data"
    },
    {
     "data": {
      "text/plain": [
       "9"
      ]
     },
     "metadata": {},
     "output_type": "display_data"
    },
    {
     "data": {
      "application/vnd.jupyter.widget-view+json": {
       "model_id": "e78fdad5d94b4574b06cf538f1fe4e9d",
       "version_major": 2,
       "version_minor": 0
      },
      "text/plain": [
       "Image(value=b'\\x89PNG\\r\\n\\x1a\\n\\x00\\x00\\x00\\rIHDR\\x00\\x00\\x00\\x1c\\x00\\x00\\x00\\x1c\\x08\\x00\\x00\\x00\\x00Wf\\x80H\\x…"
      ]
     },
     "metadata": {},
     "output_type": "display_data"
    },
    {
     "data": {
      "text/plain": [
       "2"
      ]
     },
     "metadata": {},
     "output_type": "display_data"
    },
    {
     "data": {
      "application/vnd.jupyter.widget-view+json": {
       "model_id": "4246d6f63eb948e082be932eaba87347",
       "version_major": 2,
       "version_minor": 0
      },
      "text/plain": [
       "Image(value=b'\\x89PNG\\r\\n\\x1a\\n\\x00\\x00\\x00\\rIHDR\\x00\\x00\\x00\\x1c\\x00\\x00\\x00\\x1c\\x08\\x00\\x00\\x00\\x00Wf\\x80H\\x…"
      ]
     },
     "metadata": {},
     "output_type": "display_data"
    },
    {
     "data": {
      "text/plain": [
       "1"
      ]
     },
     "metadata": {},
     "output_type": "display_data"
    },
    {
     "data": {
      "application/vnd.jupyter.widget-view+json": {
       "model_id": "4548a9dde3234d0198a53cf6860b8239",
       "version_major": 2,
       "version_minor": 0
      },
      "text/plain": [
       "Image(value=b'\\x89PNG\\r\\n\\x1a\\n\\x00\\x00\\x00\\rIHDR\\x00\\x00\\x00\\x1c\\x00\\x00\\x00\\x1c\\x08\\x00\\x00\\x00\\x00Wf\\x80H\\x…"
      ]
     },
     "metadata": {},
     "output_type": "display_data"
    },
    {
     "data": {
      "text/plain": [
       "3"
      ]
     },
     "metadata": {},
     "output_type": "display_data"
    },
    {
     "data": {
      "application/vnd.jupyter.widget-view+json": {
       "model_id": "9fa1bbebfa16486b89230e9984017b8c",
       "version_major": 2,
       "version_minor": 0
      },
      "text/plain": [
       "Image(value=b'\\x89PNG\\r\\n\\x1a\\n\\x00\\x00\\x00\\rIHDR\\x00\\x00\\x00\\x1c\\x00\\x00\\x00\\x1c\\x08\\x00\\x00\\x00\\x00Wf\\x80H\\x…"
      ]
     },
     "metadata": {},
     "output_type": "display_data"
    },
    {
     "data": {
      "text/plain": [
       "1"
      ]
     },
     "metadata": {},
     "output_type": "display_data"
    },
    {
     "data": {
      "application/vnd.jupyter.widget-view+json": {
       "model_id": "47c5a678e70a46eaa50d5fad7e026697",
       "version_major": 2,
       "version_minor": 0
      },
      "text/plain": [
       "Image(value=b'\\x89PNG\\r\\n\\x1a\\n\\x00\\x00\\x00\\rIHDR\\x00\\x00\\x00\\x1c\\x00\\x00\\x00\\x1c\\x08\\x00\\x00\\x00\\x00Wf\\x80H\\x…"
      ]
     },
     "metadata": {},
     "output_type": "display_data"
    },
    {
     "data": {
      "text/plain": [
       "4"
      ]
     },
     "metadata": {},
     "output_type": "display_data"
    },
    {
     "data": {
      "application/vnd.jupyter.widget-view+json": {
       "model_id": "ef89ee739e21494fa6022e9fac77a58c",
       "version_major": 2,
       "version_minor": 0
      },
      "text/plain": [
       "Image(value=b'\\x89PNG\\r\\n\\x1a\\n\\x00\\x00\\x00\\rIHDR\\x00\\x00\\x00\\x1c\\x00\\x00\\x00\\x1c\\x08\\x00\\x00\\x00\\x00Wf\\x80H\\x…"
      ]
     },
     "metadata": {},
     "output_type": "display_data"
    }
   ],
   "source": [
    "# print some examples (pairs of target number and image)\n",
    "import io\n",
    "for i in range(10):\n",
    "    buffer = io.BytesIO()\n",
    "    PIL.Image.fromarray((256*training[i][1]).reshape(28, 28)).convert('L').save(buffer, format=\"PNG\")\n",
    "    display(training[i][0], widgets.Image(value=buffer.getvalue(),width=28,height=28))"
   ]
  },
  {
   "cell_type": "markdown",
   "id": "131a6111-6c96-4811-9056-193e13b283eb",
   "metadata": {},
   "source": [
    "# A simple neural network for MNIST\n",
    "In MNIST we have grayscale images of digits, 28x28 pixels in size (as shown above). \n",
    "We will define a network with two inner (hidden) layers, each with 16 neurons, and an output layer with 10 neurons, one per digit.\n",
    "Let's go!"
   ]
  },
  {
   "cell_type": "code",
   "execution_count": 16,
   "id": "5a1def90",
   "metadata": {},
   "outputs": [],
   "source": [
    "HIDDEN_DIM1 = 256\n",
    "HIDDEN_DIM2 = 256"
   ]
  },
  {
   "cell_type": "code",
   "execution_count": 33,
   "id": "45dda405",
   "metadata": {},
   "outputs": [],
   "source": [
    "class MNISTClassify(nn.Module):\n",
    "    def __init__(self):\n",
    "        super(MNISTClassify, self).__init__()\n",
    "        input_size = 28 * 28\n",
    "        self.W1 = nn.Parameter(nn.init.xavier_uniform_(torch.empty(input_size, HIDDEN_DIM1)))\n",
    "        self.b1 = nn.Parameter(nn.init.xavier_uniform_(torch.empty(1, HIDDEN_DIM1)))\n",
    "        self.W2 = nn.Parameter(nn.init.xavier_uniform_(torch.empty(HIDDEN_DIM1, HIDDEN_DIM2)))\n",
    "        self.b2 = nn.Parameter(nn.init.xavier_uniform_(torch.empty(1, HIDDEN_DIM2)))\n",
    "        self.W3 = nn.Parameter(nn.init.xavier_uniform_(torch.empty(HIDDEN_DIM2, 10)))\n",
    "        self.b3 = nn.Parameter(nn.init.xavier_uniform_(torch.empty(1, 10)))\n",
    "        \n",
    "    def forward(self, x):\n",
    "        # erste innere Schicht:\n",
    "        h1 = nn.functional.sigmoid(x @ self.W1 + self.b1)\n",
    "        # zweite innere Schicht:\n",
    "        h2 = nn.functional.sigmoid(h1 @ self.W2 + self.b2)\n",
    "        # Ergebnisschicht:\n",
    "        activation = nn.functional.log_softmax(h2 @ self.W3 + self.b3, dim=1)\n",
    "        return activation.view(10)"
   ]
  },
  {
   "cell_type": "markdown",
   "id": "763486b1-cda2-4b6c-9660-cb704db813d5",
   "metadata": {},
   "source": [
    "What's new here? \n",
    "\n",
    "We're not computing the outputs of individual neurons! Instead, we compute the weighted sum for all output neurons from all weighted input neurons in one matrix multiplication (which uses the ```@``` operator). We then add a bias *vector* (instead of just one bias value). The agreement is that sigmoid called on a vector yields the vector of the sigmoid operation performed on each individual value in the vector.\n",
    "\n",
    "Matrix operations really condense the computations needed for a full layer to <tt>a<sub>out</sub> = &sigma;(a<sub>in</sub> &middot; W + b)</tt>. Note again, that operator overloading makes this concise form possible. \n",
    "\n",
    "What's important to note is that we need to make sure that weight matrices (and bias vectors) are of the right sizes, check the sizes in the constructor.\n",
    "\n",
    "Also, note that we initialize the parameters in a certain way – one that was vital discovery in making deep learning actually work in practice."
   ]
  },
  {
   "cell_type": "markdown",
   "id": "ddc25900-1675-43e1-b9b4-d5a988b99b34",
   "metadata": {},
   "source": [
    "# The training loop.\n",
    "The training is actually quite similar to what we did in the previous exercise. \n",
    "we over and over repeat the following:\n",
    "* have the network produce some output (**new:** there's now input involved!)\n",
    "* compute the desired output (**new:** this also comes from data!)\n",
    "* compute the model loss as the squared error between target and estimate\n",
    "* compute the gradients of the error wrt. all parameters\n",
    "* adjust errors a little bit in the right direction.\n",
    "\n",
    "We perform this repeatedly and every time with a different image. Once we're through with every image, we repeat, for a total of 5 repetitions (each repetition is called an *epoch*). \n",
    "After every epoch, we **test** the model on some validation data. In that way, we have a better chance at assessing the real-world performance of the model on new data, as compared to data that has been seen in training."
   ]
  },
  {
   "cell_type": "code",
   "execution_count": 34,
   "id": "0f16f533-cdef-4a01-a7d4-23a0365ff899",
   "metadata": {
    "editable": true,
    "slideshow": {
     "slide_type": ""
    },
    "tags": []
   },
   "outputs": [
    {
     "name": "stdout",
     "output_type": "stream",
     "text": [
      "Epoch 1 starting\n",
      "Held out accuracy 0.9139 (7506.600461602781 instances/sec)\n",
      "   T0    T1    T2    T3    T4    T5    T6    T7    T8    T9    \n",
      "P0 934   0     7     0     1     5     15    3     3     5     \n",
      "P1 0     1108  5     1     5     2     3     9     6     9     \n",
      "P2 6     2     943   15    6     3     10    29    6     1     \n",
      "P3 1     4     14    921   2     31    1     6     40    14    \n",
      "P4 0     0     11    0     884   5     8     5     6     19    \n",
      "P5 32    5     9     50    7     825   41    1     93    24    \n",
      "P6 2     3     9     0     8     4     874   0     5     1     \n",
      "P7 4     1     9     14    6     3     2     965   13    43    \n",
      "P8 1     12    24    7     4     9     4     2     793   1     \n",
      "P9 0     0     1     2     59    5     0     8     9     892   \n",
      "instances per sec: 1319.5487847770469\n",
      "Epoch 2 starting\n",
      "Held out accuracy 0.942 (7498.036243244837 instances/sec)\n",
      "   T0    T1    T2    T3    T4    T5    T6    T7    T8    T9    \n",
      "P0 943   0     6     0     1     5     3     2     4     7     \n",
      "P1 0     1117  7     1     2     3     3     12    5     7     \n",
      "P2 1     2     953   11    4     1     0     18    4     1     \n",
      "P3 1     2     11    963   1     24    1     7     21    12    \n",
      "P4 0     0     3     0     904   2     1     2     6     24    \n",
      "P5 9     1     4     13    2     820   8     2     17    7     \n",
      "P6 22    4     24    2     31    16    941   0     21    3     \n",
      "P7 2     2     11    11    3     4     1     976   11    23    \n",
      "P8 2     7     12    8     4     10    0     0     883   5     \n",
      "P9 0     0     1     1     30    7     0     9     2     920   \n",
      "instances per sec: 1537.0750988470616\n",
      "Epoch 3 starting\n",
      "Held out accuracy 0.9561 (7473.886504589764 instances/sec)\n",
      "   T0    T1    T2    T3    T4    T5    T6    T7    T8    T9    \n",
      "P0 962   0     9     0     1     4     5     1     4     5     \n",
      "P1 0     1123  6     2     1     4     3     13    8     8     \n",
      "P2 1     1     959   3     3     0     0     9     3     1     \n",
      "P3 2     3     16    978   0     7     0     8     12    9     \n",
      "P4 0     0     5     0     935   2     4     3     10    25    \n",
      "P5 6     1     2     10    0     851   13    3     12    7     \n",
      "P6 7     4     14    0     14    10    932   0     10    1     \n",
      "P7 1     2     9     8     2     1     0     970   6     4     \n",
      "P8 1     1     10    5     2     6     1     0     904   2     \n",
      "P9 0     0     2     4     24    7     0     21    5     947   \n",
      "instances per sec: 1627.3173894113297\n",
      "Epoch 4 starting\n",
      "Held out accuracy 0.9608 (7481.006327538024 instances/sec)\n",
      "   T0    T1    T2    T3    T4    T5    T6    T7    T8    T9    \n",
      "P0 970   0     6     1     1     9     11    2     3     4     \n",
      "P1 0     1121  1     0     0     1     3     11    2     5     \n",
      "P2 1     3     1002  7     8     1     5     14    6     1     \n",
      "P3 2     2     9     984   0     27    1     7     15    11    \n",
      "P4 0     0     3     1     955   3     4     6     7     41    \n",
      "P5 3     1     0     0     0     824   7     0     4     1     \n",
      "P6 2     4     2     0     4     9     922   0     5     1     \n",
      "P7 1     2     6     8     2     3     0     974   4     11    \n",
      "P8 1     2     3     7     2     8     5     1     927   5     \n",
      "P9 0     0     0     2     10    7     0     13    1     929   \n",
      "instances per sec: 1675.9248884116723\n",
      "Epoch 5 starting\n",
      "Held out accuracy 0.9667 (7513.348034113932 instances/sec)\n",
      "   T0    T1    T2    T3    T4    T5    T6    T7    T8    T9    \n",
      "P0 968   0     7     0     1     3     10    0     3     3     \n",
      "P1 0     1124  2     0     0     3     4     9     1     5     \n",
      "P2 1     3     991   2     7     0     2     10    2     0     \n",
      "P3 2     1     11    985   1     12    1     7     7     8     \n",
      "P4 0     0     2     0     934   2     5     2     3     13    \n",
      "P5 4     1     0     6     1     857   14    1     4     2     \n",
      "P6 1     1     2     0     3     4     914   0     3     1     \n",
      "P7 2     2     8     9     2     1     0     985   3     9     \n",
      "P8 2     3     9     8     3     5     8     1     946   5     \n",
      "P9 0     0     0     0     30    5     0     13    2     963   \n",
      "instances per sec: 1706.4450195300967\n"
     ]
    },
    {
     "data": {
      "application/vnd.jupyter.widget-view+json": {
       "model_id": "9cae0f823660418b87c8c7a7fee16627",
       "version_major": 2,
       "version_minor": 0
      },
      "image/png": "[encoded data removed]",
      "text/html": [
       "\n",
       "            <div style=\"display: inline-block;\">\n",
       "                <div class=\"jupyter-widgets widget-label\" style=\"text-align: center;\">\n",
       "                    evolution over training iterations\n",
       "                </div>\n",
       "                <img src='data:image/png;base64,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' width=640.0/>\n",
       "            </div>\n",
       "        "
      ],
      "text/plain": [
       "Canvas(toolbar=Toolbar(toolitems=[('Home', 'Reset original view', 'home', 'home'), ('Back', 'Back to previous …"
      ]
     },
     "metadata": {},
     "output_type": "display_data"
    }
   ],
   "source": [
    "%matplotlib widget\n",
    "classify = MNISTClassify().float().to(device)\n",
    "learning_rate = 0.01\n",
    "optimizer = torch.optim.SGD(classify.parameters(), lr = learning_rate)\n",
    "#optimizer = torch.optim.Adam(classify.parameters())\n",
    "#loss = nn.CrossEntropyLoss\n",
    "dev_time = 0.0\n",
    "plot_data = defaultdict(lambda : [])\n",
    "\n",
    "start = time.time()\n",
    "for epoch in range(5):\n",
    "    print((\"Epoch {} starting\".format(epoch+1)))\n",
    "    random.shuffle(training)\n",
    "    # train model:\n",
    "    recent_errors = []\n",
    "    classify.train(True)\n",
    "    for cls, img in training:\n",
    "        optimizer.zero_grad()\n",
    "        # Bild als Eingabe aufbereiten\n",
    "        x = torch.tensor(img).float().to(device)\n",
    "        # Outputaktivierung berechnen\n",
    "        output = classify(x)\n",
    "        # \"idealen\" Output (überall 0, nur gewählte Klasse ist 1)\n",
    "        #target = torch.zeros(10).long()\n",
    "        #target[cls] = 1.0\n",
    "        # Kostenfunktion berechnen\n",
    "        #loss = torch.sum((output - target) ** 2)\n",
    "        loss  = nn.functional.nll_loss(output, torch.tensor(cls).long().to(device))\n",
    "        plot_data[\"error\"].append(loss.item())\n",
    "        recent_errors.append(loss.item())\n",
    "        if len(recent_errors) > 100:\n",
    "            recent_errors = recent_errors[-100:-1] # keep only the last part\n",
    "        plot_data[\"recent avg. error\"].append(sum(recent_errors) / len(recent_errors))\n",
    "        # Kosten den einzelnen Parametern zuordnen\n",
    "        loss.backward()\n",
    "        # Parameter entsprechend anpassen\n",
    "        optimizer.step()\n",
    "    classify.train(False)\n",
    "    \n",
    "    # test performance of classifier:\n",
    "    confusion = [[0 for _ in range(10)] for _ in range(10)]\n",
    "    correct = 0\n",
    "    dev_start = time.time()\n",
    "    for cls, img in testing:\n",
    "        x = torch.tensor(img).float().to(device)\n",
    "        output = classify(x)\n",
    "        prediction = int(torch.topk(output, 1)[1].item())\n",
    "        if cls == prediction:\n",
    "            correct += 1\n",
    "        confusion[prediction][cls] += 1\n",
    "    dev_end = time.time()\n",
    "    acc = float(correct) / len(testing)\n",
    "    dev_time += dev_end - dev_start\n",
    "    print((\"Held out accuracy {} ({} instances/sec)\".format(\n",
    "        acc, len(testing) / (dev_end - dev_start))))\n",
    "    print('   ' + ''.join(('T'+str(x)).ljust(6) for x in range(10)))\n",
    "    for p, row in enumerate(confusion):\n",
    "        s = 'P' + str(p) + ' '\n",
    "        s += ''.join(str(col).ljust(6) for col in row)\n",
    "        print(s)\n",
    "\n",
    "    end = time.time()\n",
    "    print((\"instances per sec: {}\".format(\n",
    "                ((epoch+1) * len(training)) / (end - start - dev_time))))\n",
    "\n",
    "plot(plot_data)"
   ]
  },
  {
   "cell_type": "code",
   "execution_count": 19,
   "id": "1c96d8c5",
   "metadata": {},
   "outputs": [],
   "source": [
    "# This cell provides an alternative to the above implementation. It should do precisely the same but defers the actual implementation to \n",
    "# sub-modules (nn.Linear).\n",
    "\n",
    "class MNISTClassify(nn.Module):\n",
    "    \"\"\"the same but using the built-in modules for densely connected feed-forward layers\"\"\"\n",
    "    def __init__(self):\n",
    "        super(MNISTClassify, self).__init__()\n",
    "        input_size = 28 * 28\n",
    "        self.l1 = nn.Linear(input_size, HIDDEN_DIM1)\n",
    "        self.l2 = nn.Linear(HIDDEN_DIM1, HIDDEN_DIM2)\n",
    "        self.l3 = nn.Linear(HIDDEN_DIM2, 10)\n",
    "\n",
    "    def forward(self, x):\n",
    "        return nn.functional.log_softmax(self.l3(nn.functional.sigmoid(self.l2(nn.functional.sigmoid(self.l1(x))))), dim=0)\n"
   ]
  },
  {
   "cell_type": "code",
   "execution_count": 12,
   "id": "93016f8a-9f13-4ce2-a31f-ea6ec9b1000f",
   "metadata": {},
   "outputs": [],
   "source": [
    "import torch.nn.functional as F\n",
    "class MNISTClassify(nn.Module):\n",
    "    \"\"\"works much better with CNNs.\n",
    "    shamefully stolen/borrowed from https://github.com/mbjoseph/pytorch-mnist/blob/master/cnn-mnist.ipynb\n",
    "    \"\"\"\n",
    "    def __init__(self):\n",
    "        super(MNISTClassify, self).__init__()\n",
    "        self.conv1 = nn.Conv2d(1, 4, kernel_size=5)\n",
    "        self.fc2 = nn.Linear(256, 10)\n",
    "\n",
    "    def forward(self, x, isTrain=False):\n",
    "        x = x.reshape((1,1,28,28))\n",
    "        x = F.relu(F.max_pool2d(self.conv1(x), 3))\n",
    "        x = x.view(-1, self.num_flat_features(x))\n",
    "        x = F.log_softmax(self.fc2(x), dim=-1)\n",
    "        return x.view((10))\n",
    "    \n",
    "    def num_flat_features(self, x):\n",
    "        size = x.size()[1:] # all dimensions except the batch dimension\n",
    "        num_features = 1\n",
    "        for s in size:\n",
    "            num_features *= s\n",
    "        return num_features"
   ]
  },
  {
   "cell_type": "code",
   "execution_count": 14,
   "id": "d96d0bd6-8c0b-4646-880c-db1016a6ad44",
   "metadata": {},
   "outputs": [],
   "source": [
    "import torch.nn.functional as F\n",
    "class MNISTClassify(nn.Module):\n",
    "    \"\"\"works much better with CNNs.\n",
    "    shamefully stolen/borrowed from https://github.com/mbjoseph/pytorch-mnist/blob/master/cnn-mnist.ipynb\n",
    "    \"\"\"\n",
    "    def __init__(self):\n",
    "        super(MNISTClassify, self).__init__()\n",
    "        self.conv1 = nn.Conv2d(1, 10, kernel_size=5)\n",
    "        self.conv2 = nn.Conv2d(10, 20, kernel_size=5)\n",
    "        self.conv2_drop = nn.Dropout2d()\n",
    "        self.fc1 = nn.Linear(320, 120)\n",
    "        self.fc1_drop = nn.Dropout()\n",
    "        self.fc2 = nn.Linear(120, 10)\n",
    "\n",
    "    def forward(self, x, isTrain=False):\n",
    "        x = x.reshape((1,1,28,28))\n",
    "        x = F.relu(F.max_pool2d(self.conv1(x), 2))\n",
    "        x = F.relu(F.max_pool2d(self.conv2_drop(self.conv2(x)), 2))\n",
    "        x = x.view(-1, self.num_flat_features(x))\n",
    "        x = F.relu(self.fc1_drop(self.fc1(x)))\n",
    "        x = F.log_softmax(self.fc2(x), dim=-1)\n",
    "        return x.view((10))\n",
    "    \n",
    "    def num_flat_features(self, x):\n",
    "        size = x.size()[1:] # all dimensions except the batch dimension\n",
    "        num_features = 1\n",
    "        for s in size:\n",
    "            num_features *= s\n",
    "        return num_features"
   ]
  },
  {
   "cell_type": "code",
   "execution_count": null,
   "id": "3f4ff34a-0a59-49cd-bd62-8284d817ce6b",
   "metadata": {},
   "outputs": [],
   "source": []
  }
 ],
 "metadata": {
  "kernelspec": {
   "display_name": "Python 3 (ipykernel)",
   "language": "python",
   "name": "python3"
  },
  "language_info": {
   "codemirror_mode": {
    "name": "ipython",
    "version": 3
   },
   "file_extension": ".py",
   "mimetype": "text/x-python",
   "name": "python",
   "nbconvert_exporter": "python",
   "pygments_lexer": "ipython3",
   "version": "3.10.12"
  }
 },
 "nbformat": 4,
 "nbformat_minor": 5
}
