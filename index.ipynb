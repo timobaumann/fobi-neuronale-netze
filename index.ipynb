{
 "cells": [
  {
   "cell_type": "markdown",
   "id": "09033628",
   "metadata": {},
   "source": [
    "# Code-Beispiele zu Neuronalen Netzen mit PyTorch für Sequenzmodelle\n",
    "\n",
    "0. Preliminaria: [Bedienungsanleitung](Jupyter.ipynb) für Jupyter/JupyterHub; [Python-Kurzanleitung](Python.ipynb)\n",
    "1. [Intro](PyTorch.ipynb) zur automatischen Berechnung von partiellen Ableitungen und dem Gradientenabstiegsverfahren mit PyTorch\n",
    "2. Enkodierung von Text (und anschließende Klassifikation) mit [rekurrenten neuronalen Netzen](RNN.ipynb) mit (graduell immer mehr) PyTorch\n",
    "3. Generierung mit einem [rekurrenten Language-Modell](RNNLM.ipynb), Encoder-Decoder-Modelle\n",
    "4. Autoregressive Generierung mit einem [*echten* LLM](ollama.ipynb)\n",
    "\n",
    "\n",
    "[//]: # \"2. [einfache PyTorch-Module für MNIST](MNISTbasic.ipynb)\"\n",
    "[//]: # \"3. (moderat) fortgeschrittene Bildklassifikation mit [Faltungsnetzen](CNN.ipynb)<br>\""
   ]
  }
 ],
 "metadata": {
  "kernelspec": {
   "display_name": "Python 3 (ipykernel)",
   "language": "python",
   "name": "python3"
  },
  "language_info": {
   "codemirror_mode": {
    "name": "ipython",
    "version": 3
   },
   "file_extension": ".py",
   "mimetype": "text/x-python",
   "name": "python",
   "nbconvert_exporter": "python",
   "pygments_lexer": "ipython3",
   "version": "3.10.12"
  }
 },
 "nbformat": 4,
 "nbformat_minor": 5
}
