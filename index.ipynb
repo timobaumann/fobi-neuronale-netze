{
 "cells": [
  {
   "cell_type": "markdown",
   "id": "09033628",
   "metadata": {},
   "source": [
    "# Code-Beispiele zu Neuronalen Netzen mit Fokus auf Sequenzmodellen mit PyTorch\n",
    "\n",
    "0. [Bedienungsanleitung](Jupyter.ipynb) für Jupyter/JupyterHub\n",
    "0. [Python](Python.ipynb)-Kurzanleitung\n",
    "1. [Intro](PyTorch.ipynb) zur automatischen Berechnung von partiellen Ableitungen und dem Gradientenabstiegsverfahren mit PyTorch\n",
    "2. [einfache PyTorch-Module für MNIST](MNISTbasic.ipynb)\n",
    "3. Anwendungsbeispiele:<br>\n",
    "\ta. (moderat) fortgeschrittene Bildklassifikation mit [Faltungsnetzen](CNN.ipynb)<br>\n",
    "\tb. Textklassifikation mit [rekurrenten neuronalen Netzen](RNN.ipynb)"
   ]
  },
  {
   "cell_type": "code",
   "execution_count": null,
   "id": "adc2dded",
   "metadata": {},
   "outputs": [],
   "source": []
  }
 ],
 "metadata": {
  "kernelspec": {
   "display_name": "Python 3 (ipykernel)",
   "language": "python",
   "name": "python3"
  },
  "language_info": {
   "codemirror_mode": {
    "name": "ipython",
    "version": 3
   },
   "file_extension": ".py",
   "mimetype": "text/x-python",
   "name": "python",
   "nbconvert_exporter": "python",
   "pygments_lexer": "ipython3",
   "version": "3.10.12"
  }
 },
 "nbformat": 4,
 "nbformat_minor": 5
}
