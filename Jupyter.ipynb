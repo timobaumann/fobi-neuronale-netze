{
 "cells": [
  {
   "cell_type": "markdown",
   "id": "983333a1-0544-4c0e-a4e5-354530b304ac",
   "metadata": {
    "editable": true,
    "slideshow": {
     "slide_type": ""
    },
    "tags": []
   },
   "source": [
    "# Welcome to Jupyter Notebooks!\n",
    "\n",
    "(You're (probably) seeing this notebook in a JupyterLab interface on the IM-KIGS JupyterHub, rather than as a plain Jupyter Notebook. However, these are details that are largely irrelevant.)\n",
    "\n",
    "Jupyter Notebooks are a technology that allow to mix programming code, results of the program snippets and rich-text descriptions of what's going on (in the form of Markdown markup). For example, up here you read what's going on and there will be code and results further down.\n",
    "\n",
    "Notebooks are organized as a sequence of **cells**. The cell that is currently active is marked by a bright line at the left. In the beginning, this first cell is probably the one that is marked as active. You can make a cell active by clicking on it.\n",
    "\n",
    "Cells can have different types, specifically they can be code, markdown or raw text. Towards the top of the window, there is a setting for changing the cell type (this one is set to \"Markdown\").\n",
    "\n",
    "To edit a markdown cell, double-click on it. Notice? Now you don't see the formatted text anymore but the markdown that describes the formatting. To get back to the properly formatted version, click on the little \"play\" button on the top (a little to the left of where it says \"Markdown\"); alternatively, you may press Shift+Enter.\n",
    "\n",
    "Check [here](https://jupyter-notebook.readthedocs.io/en/stable/examples/Notebook/Working%20With%20Markdown%20Cells.html) for the many formatting instructions, e.g. for *cursive*, **bold**, ***bold cursive***, ~strike-through~ and so on. Make a heading or subheading by putting a hash sign at the beginning of a line. \n",
    "\n",
    "## like so for a heading on the second level (similar to &lt;h2&gt; in HTML).\n",
    "\n",
    "You can also embed (mostly) arbitrary HTML (although some of it may be sanitized away to avoid malicious use)."
   ]
  },
  {
   "cell_type": "code",
   "execution_count": 1,
   "id": "7f7c2083-f46e-461e-a16c-60f1d001e23b",
   "metadata": {},
   "outputs": [
    {
     "name": "stdout",
     "output_type": "stream",
     "text": [
      "Hello World.\n"
     ]
    }
   ],
   "source": [
    "# there are also code cells, like this one. Which language the notebook uses \n",
    "# is defined up-front (at the top right it hopefully says \"Python 3 (ipykernel)\". \n",
    "# On our server, this can't be changed but there are also kernels for some \n",
    "# other languages, such as C/C++ or even Java. \n",
    "# However, Python is clearly the most-used language for Jupyter Notebooks.\n",
    "\n",
    "# note that the hash signs above do not make headings.\n",
    "# They are python symbols to denote comments. \n",
    "# There's no markdown in code cells (but there may be code-highlighting).\n",
    "\n",
    "# Now, how about some python?\n",
    "print(\"Hello World.\")\n",
    "# when you execute the cell, the result will show below. To execute, \n",
    "# press the play button at the top, or press Shift-Enter (as before)."
   ]
  },
  {
   "cell_type": "code",
   "execution_count": 2,
   "id": "e7222d89-8972-45c7-84cf-162e172e335c",
   "metadata": {},
   "outputs": [
    {
     "data": {
      "text/plain": [
       "'Also Hello World.'"
      ]
     },
     "execution_count": 2,
     "metadata": {},
     "output_type": "execute_result"
    }
   ],
   "source": [
    "# Above, we see that the output from the console was shown. \n",
    "# Additionally, the value of the last expression will be shown. \n",
    "# Try executing this cell (but note the difference to the above!).\n",
    "\"Also Hello World.\""
   ]
  },
  {
   "cell_type": "markdown",
   "id": "5159ad0e-e02c-4277-937d-19272dd79db3",
   "metadata": {},
   "source": [
    "<details>\n",
    "The difference between the two previous cells is that <tt>print</tt> doesn't return a value but prints something to stdout. The content of stdout is shown below the cell. The Second cell doesn't write anything to stdout but produces a value (the string value 'Also Hello World', which is equivalent to \"Also Hello World\" in Python). The value is shown. \n",
    "\n",
    "Try to modify the code above to output something on stdout AND return a value. What happens?\n",
    "</details>"
   ]
  },
  {
   "cell_type": "markdown",
   "id": "4040af89-e83e-4e06-a9f5-2203130a72f3",
   "metadata": {
    "editable": true,
    "slideshow": {
     "slide_type": ""
    },
    "tags": []
   },
   "source": [
    "One thing that I use in the following notebooks is a way of hiding \"results\"/\"answers\"/\"solutions\" to problems that I embed in the notebook texts. See below and click on \"Details\" or the little arrow next to it.\n",
    "\n",
    "<details>\n",
    "    Results are shown when you look at the details. Try to not spoil the questions for yourself by immediately looking at the solutions. There's a huge difference between actively coming up with an answer and passively following the thoughts expressed in the answer. But you're educators, you probably know this much better than I.\n",
    "</details>"
   ]
  },
  {
   "cell_type": "code",
   "execution_count": 3,
   "id": "5e75d7ca-9fdd-47ce-bdcd-e1479477fd60",
   "metadata": {},
   "outputs": [],
   "source": [
    "# Whatever you define in one cell (and then execute) becomes \n",
    "# available to the next cells to be executed, es exemplified in this and the next cell:\n",
    "a = 1"
   ]
  },
  {
   "cell_type": "code",
   "execution_count": 6,
   "id": "24b1352a-861a-4933-995a-2a13ac44b383",
   "metadata": {},
   "outputs": [
    {
     "data": {
      "text/plain": [
       "2"
      ]
     },
     "execution_count": 6,
     "metadata": {},
     "output_type": "execute_result"
    }
   ],
   "source": [
    "a"
   ]
  },
  {
   "cell_type": "code",
   "execution_count": 5,
   "id": "26a1ad54-bd86-4384-926e-92e5042e75d1",
   "metadata": {},
   "outputs": [],
   "source": [
    "# however, beware that you can execute cells out-of-order. For example, execute this \n",
    "# cell and then re-execute the one above and the output will change. \n",
    "# Note that the execution count of code cells is shown on the left.\n",
    "a = 2"
   ]
  },
  {
   "cell_type": "code",
   "execution_count": 38,
   "id": "4e153c69-7fde-49d7-8de4-efea144a4bac",
   "metadata": {
    "editable": true,
    "slideshow": {
     "slide_type": ""
    },
    "tags": []
   },
   "outputs": [
    {
     "data": {
      "text/plain": [
       "['Hello World from the shell.']"
      ]
     },
     "execution_count": 38,
     "metadata": {},
     "output_type": "execute_result"
    }
   ],
   "source": [
    "# Finally, you will occasionally see lines that start with a % or %% in code cells,\n",
    "# like the following:\n",
    "%sx echo \"Hello World from the shell.\"\n",
    "# these are \"magic\" commands, \n",
    "# see https://ipython.readthedocs.io/en/stable/interactive/magics.html\n",
    "# or https://nbviewer.org/github/ipython/ipython/blob/1.x/examples/notebooks/Cell%20Magics.ipynb .\n",
    "# You don't need to pay much attention to them for now."
   ]
  },
  {
   "cell_type": "markdown",
   "id": "2e86ff19-25ca-44fc-b283-246dd5351ab4",
   "metadata": {
    "editable": true,
    "slideshow": {
     "slide_type": ""
    },
    "tags": []
   },
   "source": [
    "There we are. That's about all you need to know about Jupyter Notebooks."
   ]
  }
 ],
 "metadata": {
  "kernelspec": {
   "display_name": "Python 3 (ipykernel)",
   "language": "python",
   "name": "python3"
  },
  "language_info": {
   "codemirror_mode": {
    "name": "ipython",
    "version": 3
   },
   "file_extension": ".py",
   "mimetype": "text/x-python",
   "name": "python",
   "nbconvert_exporter": "python",
   "pygments_lexer": "ipython3",
   "version": "3.10.12"
  }
 },
 "nbformat": 4,
 "nbformat_minor": 5
}
