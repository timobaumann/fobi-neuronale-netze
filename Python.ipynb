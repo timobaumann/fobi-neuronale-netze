{
 "cells": [
  {
   "cell_type": "markdown",
   "id": "fee040e7-f580-4696-bf1b-2209bfef51c5",
   "metadata": {},
   "source": [
    "I have, unfortunately, not written a custom-tailored Python introduction for this course. However, there is an excellent (and quite elaborate) introduction to Python (and, to some extent, the intricacies of PyTorch) in the directory python+pytorch, written by my colleagues in the medical image computing group. \n",
    "\n",
    "Today, we will look at a much shorter [introduction to neural network frameworks](PyTorch.ipynb)."
   ]
  },
  {
   "cell_type": "code",
   "execution_count": null,
   "id": "36512266-b5e8-4929-868c-7778bea9954f",
   "metadata": {},
   "outputs": [],
   "source": []
  }
 ],
 "metadata": {
  "kernelspec": {
   "display_name": "Python 3 (ipykernel)",
   "language": "python",
   "name": "python3"
  },
  "language_info": {
   "codemirror_mode": {
    "name": "ipython",
    "version": 3
   },
   "file_extension": ".py",
   "mimetype": "text/x-python",
   "name": "python",
   "nbconvert_exporter": "python",
   "pygments_lexer": "ipython3",
   "version": "3.10.12"
  }
 },
 "nbformat": 4,
 "nbformat_minor": 5
}
